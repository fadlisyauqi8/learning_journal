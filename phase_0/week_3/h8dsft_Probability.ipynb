{
 "cells": [
  {
   "cell_type": "markdown",
   "metadata": {},
   "source": [
    "## Non Graded Challange 4\n",
    "Name : Rahmat Fadhli Syauqi\n",
    "\n",
    "Batch : 11\n"
   ]
  },
  {
   "cell_type": "markdown",
   "metadata": {},
   "source": [
    "Assignment Instructions\n",
    "- Buatlah sebuah kode untuk mensimulasikan melempar koin sebanyak 50.000 kali dengan assign value random berupa 0 dan 1 untuk kepala atau ekor. Setiap kali koin dilempar, peluang untuk mendapatkan kepala atau ekor adalah 50%."
   ]
  },
  {
   "cell_type": "code",
   "execution_count": 6,
   "metadata": {},
   "outputs": [],
   "source": [
    "#import library\n",
    "import random\n",
    "import collections"
   ]
  },
  {
   "cell_type": "code",
   "execution_count": 18,
   "metadata": {},
   "outputs": [],
   "source": [
    "#Fungsi simulasi lemparan\n",
    "def simulate (trial):\n",
    "    trial=list(range(0,trial+1))\n",
    "    result = []\n",
    "\n",
    "    for i in trial: #Percobaan pelemparan\n",
    "        if random.randint(0,1) == 1:\n",
    "            result.append('kepala')\n",
    "        else:\n",
    "            result.append('ekor')\n",
    "        count = collections.Counter(result) #Menghitung jumlah freq head & tail\n",
    "    freq=dict(count)\n",
    "    \n",
    "    return freq"
   ]
  },
  {
   "cell_type": "code",
   "execution_count": 19,
   "metadata": {},
   "outputs": [
    {
     "data": {
      "text/plain": [
       "{'ekor': 24989, 'kepala': 25012}"
      ]
     },
     "execution_count": 19,
     "metadata": {},
     "output_type": "execute_result"
    }
   ],
   "source": [
    "#Hasil Percobaan\n",
    "simulate(50000)"
   ]
  }
 ],
 "metadata": {
  "interpreter": {
   "hash": "618ca8207bf60f40aea0b819055d7c0bfcb907c5ee422040ce3d69b2a9ce6a54"
  },
  "kernelspec": {
   "display_name": "Python 3.9.7 ('base')",
   "language": "python",
   "name": "python3"
  },
  "language_info": {
   "codemirror_mode": {
    "name": "ipython",
    "version": 3
   },
   "file_extension": ".py",
   "mimetype": "text/x-python",
   "name": "python",
   "nbconvert_exporter": "python",
   "pygments_lexer": "ipython3",
   "version": "3.9.7"
  },
  "orig_nbformat": 4
 },
 "nbformat": 4,
 "nbformat_minor": 2
}
