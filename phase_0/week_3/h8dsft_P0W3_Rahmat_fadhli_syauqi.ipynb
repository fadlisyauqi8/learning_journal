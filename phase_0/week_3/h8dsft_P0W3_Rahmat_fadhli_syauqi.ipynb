{
 "cells": [
  {
   "cell_type": "markdown",
   "metadata": {},
   "source": [
    "## Graded Challenge 3\n",
    "Nama : Rahmat Fadhli Syauqi\n",
    "\n",
    "Batch : 11\n",
    "\n",
    "\n",
    "Graded Challenge ini dibuat guna mengevaluasi pembelajaran pada Hacktiv8 Data Science Fulltime Program khususnya pada Practical Statistics."
   ]
  },
  {
   "cell_type": "markdown",
   "metadata": {},
   "source": [
    "## Assignment Instructions\n",
    "\n",
    "Graded Challenge 1 dikerjakan dalam format notebook dengen beberapa kriteria wajib di bawah ini:\n",
    "\n",
    "1. Library yang digunakan adalah Numpy, Pandas, dan Scipy.\n",
    "2. Project dinyatakan selesai dan diterima untuk dinilai jika saat dilakukan Run All pada notebook, semua cell berhasil tereksekusi sampai akhir.\n",
    "3. Isi notebook harus mengikuti outline di bawah ini:\n",
    "- Perkenalan\\ Bab pengenalan harus diisi dengan identitas, gambaran besar dataset yang digunakan, dan objective yang ingin dicapai.\n",
    "- Import pustaka yang dibutuhkan\\ Cell pertama pada notebook harus berisi dan hanya berisi semua library yang digunakan dalam project.\n",
    "- Data Loading\\ Bagian ini berisi proses data loading yang kemudian dilanjutkan dengan explorasi data secara sederhana.\n",
    "- Data Cleaning\\ Bagian ini berisi proses penyiapan data berupa data cleaning sebelum dilakukan explorasi data lebih lanjut. Proses cleaning dapat berupa memberi nama baru untuk setiap kolom, mengisi missing values, menghapus kolom yang tidak dipakai, dan lain sebagainya.\n",
    "- Explorasi Data\\ Bagian ini berisi explorasi data pada dataset diatas dengan menggunakan query, grouping, visualisasi sederhana, dan lain sebagainya.\n",
    "- Measure of Central Tendency\n",
    "- Measure of Variance\n",
    "- Hyphotesis Testing\n",
    "- Pengambilan Kesimpulan\\ Pada bab terakhir ini, harus berisi kesimpulan yang mencerminkan hasil yang didapat dengan dibandingkan dengan objective yang sudah ditulis di bagian pengenalan.\n",
    "4. Notebook harus diupload dalam akun GitHub masing-masing siswa untuk selanjutnya dinilai."
   ]
  },
  {
   "cell_type": "markdown",
   "metadata": {},
   "source": [
    "## Assignment Objectives\n",
    "Graded Challenge 3 ini dibuat guna mengevaluasi kPractical Statistics sebagai berikut:\n",
    "\n",
    "- Mampu memuat data dengan Pandas\n",
    "- Mampu menangani missing values pada dataset\n",
    "- Mampu melakukan manipulasi kolom\n",
    "- Mampu membuat query terhadap dataset\n",
    "- Mampu melakukan grouping terhadap dataset\n",
    "- Mampu melakukan visualisasi sederhana menggunakan Pandas"
   ]
  },
  {
   "cell_type": "markdown",
   "metadata": {},
   "source": [
    "## I. Import Pustaka"
   ]
  },
  {
   "cell_type": "code",
   "execution_count": 1,
   "metadata": {},
   "outputs": [],
   "source": [
    "# modul yang digunakan\n",
    "import pandas as pd\n",
    "import numpy as np\n",
    "\n",
    "# transformasi statistik\n",
    "from scipy import stats\n",
    "from scipy.stats import t as t_func\n",
    "from scipy.stats import norm\n",
    "from scipy.stats import kurtosis\n",
    "\n",
    "# modul plotting visualisasi\n",
    "import seaborn as sns\n",
    "import matplotlib.pyplot as plt\n",
    "import matplotlib.pyplot as plt\n",
    "import matplotlib.colors as mcolors\n",
    "import seaborn as sns\n",
    "plt.style.use('seaborn-darkgrid')\n",
    "%matplotlib inline"
   ]
  },
  {
   "cell_type": "markdown",
   "metadata": {},
   "source": [
    "## II. Data Loading"
   ]
  },
  {
   "cell_type": "code",
   "execution_count": 2,
   "metadata": {},
   "outputs": [
    {
     "data": {
      "text/html": [
       "<div>\n",
       "<style scoped>\n",
       "    .dataframe tbody tr th:only-of-type {\n",
       "        vertical-align: middle;\n",
       "    }\n",
       "\n",
       "    .dataframe tbody tr th {\n",
       "        vertical-align: top;\n",
       "    }\n",
       "\n",
       "    .dataframe thead th {\n",
       "        text-align: right;\n",
       "    }\n",
       "</style>\n",
       "<table border=\"1\" class=\"dataframe\">\n",
       "  <thead>\n",
       "    <tr style=\"text-align: right;\">\n",
       "      <th></th>\n",
       "      <th>ID</th>\n",
       "      <th>name</th>\n",
       "      <th>category</th>\n",
       "      <th>main_category</th>\n",
       "      <th>currency</th>\n",
       "      <th>deadline</th>\n",
       "      <th>goal</th>\n",
       "      <th>launched</th>\n",
       "      <th>pledged</th>\n",
       "      <th>state</th>\n",
       "      <th>backers</th>\n",
       "      <th>country</th>\n",
       "      <th>usd pledged</th>\n",
       "      <th>usd_pledged_real</th>\n",
       "      <th>usd_goal_real</th>\n",
       "    </tr>\n",
       "  </thead>\n",
       "  <tbody>\n",
       "    <tr>\n",
       "      <th>0</th>\n",
       "      <td>1000002330</td>\n",
       "      <td>The Songs of Adelaide &amp; Abullah</td>\n",
       "      <td>Poetry</td>\n",
       "      <td>Publishing</td>\n",
       "      <td>GBP</td>\n",
       "      <td>2015-10-09</td>\n",
       "      <td>1000.0</td>\n",
       "      <td>2015-08-11 12:12:28</td>\n",
       "      <td>0.0</td>\n",
       "      <td>failed</td>\n",
       "      <td>0</td>\n",
       "      <td>GB</td>\n",
       "      <td>0.0</td>\n",
       "      <td>0.0</td>\n",
       "      <td>1533.95</td>\n",
       "    </tr>\n",
       "    <tr>\n",
       "      <th>1</th>\n",
       "      <td>1000003930</td>\n",
       "      <td>Greeting From Earth: ZGAC Arts Capsule For ET</td>\n",
       "      <td>Narrative Film</td>\n",
       "      <td>Film &amp; Video</td>\n",
       "      <td>USD</td>\n",
       "      <td>2017-11-01</td>\n",
       "      <td>30000.0</td>\n",
       "      <td>2017-09-02 04:43:57</td>\n",
       "      <td>2421.0</td>\n",
       "      <td>failed</td>\n",
       "      <td>15</td>\n",
       "      <td>US</td>\n",
       "      <td>100.0</td>\n",
       "      <td>2421.0</td>\n",
       "      <td>30000.00</td>\n",
       "    </tr>\n",
       "    <tr>\n",
       "      <th>2</th>\n",
       "      <td>1000004038</td>\n",
       "      <td>Where is Hank?</td>\n",
       "      <td>Narrative Film</td>\n",
       "      <td>Film &amp; Video</td>\n",
       "      <td>USD</td>\n",
       "      <td>2013-02-26</td>\n",
       "      <td>45000.0</td>\n",
       "      <td>2013-01-12 00:20:50</td>\n",
       "      <td>220.0</td>\n",
       "      <td>failed</td>\n",
       "      <td>3</td>\n",
       "      <td>US</td>\n",
       "      <td>220.0</td>\n",
       "      <td>220.0</td>\n",
       "      <td>45000.00</td>\n",
       "    </tr>\n",
       "    <tr>\n",
       "      <th>3</th>\n",
       "      <td>1000007540</td>\n",
       "      <td>ToshiCapital Rekordz Needs Help to Complete Album</td>\n",
       "      <td>Music</td>\n",
       "      <td>Music</td>\n",
       "      <td>USD</td>\n",
       "      <td>2012-04-16</td>\n",
       "      <td>5000.0</td>\n",
       "      <td>2012-03-17 03:24:11</td>\n",
       "      <td>1.0</td>\n",
       "      <td>failed</td>\n",
       "      <td>1</td>\n",
       "      <td>US</td>\n",
       "      <td>1.0</td>\n",
       "      <td>1.0</td>\n",
       "      <td>5000.00</td>\n",
       "    </tr>\n",
       "    <tr>\n",
       "      <th>4</th>\n",
       "      <td>1000011046</td>\n",
       "      <td>Community Film Project: The Art of Neighborhoo...</td>\n",
       "      <td>Film &amp; Video</td>\n",
       "      <td>Film &amp; Video</td>\n",
       "      <td>USD</td>\n",
       "      <td>2015-08-29</td>\n",
       "      <td>19500.0</td>\n",
       "      <td>2015-07-04 08:35:03</td>\n",
       "      <td>1283.0</td>\n",
       "      <td>canceled</td>\n",
       "      <td>14</td>\n",
       "      <td>US</td>\n",
       "      <td>1283.0</td>\n",
       "      <td>1283.0</td>\n",
       "      <td>19500.00</td>\n",
       "    </tr>\n",
       "  </tbody>\n",
       "</table>\n",
       "</div>"
      ],
      "text/plain": [
       "           ID                                               name  \\\n",
       "0  1000002330                    The Songs of Adelaide & Abullah   \n",
       "1  1000003930      Greeting From Earth: ZGAC Arts Capsule For ET   \n",
       "2  1000004038                                     Where is Hank?   \n",
       "3  1000007540  ToshiCapital Rekordz Needs Help to Complete Album   \n",
       "4  1000011046  Community Film Project: The Art of Neighborhoo...   \n",
       "\n",
       "         category main_category currency    deadline     goal  \\\n",
       "0          Poetry    Publishing      GBP  2015-10-09   1000.0   \n",
       "1  Narrative Film  Film & Video      USD  2017-11-01  30000.0   \n",
       "2  Narrative Film  Film & Video      USD  2013-02-26  45000.0   \n",
       "3           Music         Music      USD  2012-04-16   5000.0   \n",
       "4    Film & Video  Film & Video      USD  2015-08-29  19500.0   \n",
       "\n",
       "              launched  pledged     state  backers country  usd pledged  \\\n",
       "0  2015-08-11 12:12:28      0.0    failed        0      GB          0.0   \n",
       "1  2017-09-02 04:43:57   2421.0    failed       15      US        100.0   \n",
       "2  2013-01-12 00:20:50    220.0    failed        3      US        220.0   \n",
       "3  2012-03-17 03:24:11      1.0    failed        1      US          1.0   \n",
       "4  2015-07-04 08:35:03   1283.0  canceled       14      US       1283.0   \n",
       "\n",
       "   usd_pledged_real  usd_goal_real  \n",
       "0               0.0        1533.95  \n",
       "1            2421.0       30000.00  \n",
       "2             220.0       45000.00  \n",
       "3               1.0        5000.00  \n",
       "4            1283.0       19500.00  "
      ]
     },
     "execution_count": 2,
     "metadata": {},
     "output_type": "execute_result"
    }
   ],
   "source": [
    "#Menampilkan 5 data teratas\n",
    "df = pd.read_csv(\"ks-projects-201801.csv\")\n",
    "df.head()"
   ]
  },
  {
   "cell_type": "code",
   "execution_count": 3,
   "metadata": {},
   "outputs": [
    {
     "name": "stdout",
     "output_type": "stream",
     "text": [
      "<class 'pandas.core.frame.DataFrame'>\n",
      "RangeIndex: 378661 entries, 0 to 378660\n",
      "Data columns (total 15 columns):\n",
      " #   Column            Non-Null Count   Dtype  \n",
      "---  ------            --------------   -----  \n",
      " 0   ID                378661 non-null  int64  \n",
      " 1   name              378657 non-null  object \n",
      " 2   category          378661 non-null  object \n",
      " 3   main_category     378661 non-null  object \n",
      " 4   currency          378661 non-null  object \n",
      " 5   deadline          378661 non-null  object \n",
      " 6   goal              378661 non-null  float64\n",
      " 7   launched          378661 non-null  object \n",
      " 8   pledged           378661 non-null  float64\n",
      " 9   state             378661 non-null  object \n",
      " 10  backers           378661 non-null  int64  \n",
      " 11  country           378661 non-null  object \n",
      " 12  usd pledged       374864 non-null  float64\n",
      " 13  usd_pledged_real  378661 non-null  float64\n",
      " 14  usd_goal_real     378661 non-null  float64\n",
      "dtypes: float64(5), int64(2), object(8)\n",
      "memory usage: 43.3+ MB\n"
     ]
    }
   ],
   "source": [
    "#Melihat tipe data\n",
    "df.info()"
   ]
  },
  {
   "cell_type": "code",
   "execution_count": 4,
   "metadata": {},
   "outputs": [
    {
     "data": {
      "text/plain": [
       "(378661, 15)"
      ]
     },
     "execution_count": 4,
     "metadata": {},
     "output_type": "execute_result"
    }
   ],
   "source": [
    "#Melihat ukuran data\n",
    "df.shape"
   ]
  },
  {
   "cell_type": "markdown",
   "metadata": {},
   "source": [
    "Dari dataframe diatas , dataset ini mengandung 378657 baris data dan 15 kolom."
   ]
  },
  {
   "cell_type": "markdown",
   "metadata": {},
   "source": [
    "## III. Data Cleaning\n",
    "\n",
    "Bagian ini berisi proses penyiapan data berupa data cleaning sebelum dilakukan explorasi data lebih lanjut. Proses cleaning dapat berupa memberi nama baru untuk setiap kolom, mengisi missing values, menghapus kolom yang tidak dipakai, dan lain sebagainya."
   ]
  },
  {
   "cell_type": "code",
   "execution_count": 5,
   "metadata": {},
   "outputs": [
    {
     "data": {
      "text/plain": [
       "ID                     0\n",
       "name                   4\n",
       "category               0\n",
       "main_category          0\n",
       "currency               0\n",
       "deadline               0\n",
       "goal                   0\n",
       "launched               0\n",
       "pledged                0\n",
       "state                  0\n",
       "backers                0\n",
       "country                0\n",
       "usd pledged         3797\n",
       "usd_pledged_real       0\n",
       "usd_goal_real          0\n",
       "dtype: int64"
      ]
     },
     "execution_count": 5,
     "metadata": {},
     "output_type": "execute_result"
    }
   ],
   "source": [
    "#Melihat kolom yang memiliki data missing value\n",
    "df.isnull().sum() "
   ]
  },
  {
   "cell_type": "markdown",
   "metadata": {},
   "source": [
    "Dari hasil diatas, dapat dilihat tedapat 4 data yang kosong pada bagian kolom **name** dan 3797 data pada **usd_pledged** "
   ]
  },
  {
   "cell_type": "markdown",
   "metadata": {},
   "source": [
    "Dari hasil pencarian diatas terbukti 4 data pada bagian kolom **name** terdapat kekosongan data, dari hal ini kita bisa melakukan replacing dengan penyebutan **Unknown Project**."
   ]
  },
  {
   "cell_type": "code",
   "execution_count": 6,
   "metadata": {},
   "outputs": [],
   "source": [
    "#Replacing missing value pada kolom 'name' menjadi 'Unknown Project'\n",
    "df['name'].fillna('Unknown Project', inplace = True)"
   ]
  },
  {
   "cell_type": "markdown",
   "metadata": {},
   "source": [
    "Kali ini, akan melakukan pengisian data yang kosong pada nilai **usd pledged** dengan nilai yang sama pada **usd pledge real**."
   ]
  },
  {
   "cell_type": "code",
   "execution_count": 7,
   "metadata": {},
   "outputs": [
    {
     "data": {
      "text/html": [
       "<div>\n",
       "<style scoped>\n",
       "    .dataframe tbody tr th:only-of-type {\n",
       "        vertical-align: middle;\n",
       "    }\n",
       "\n",
       "    .dataframe tbody tr th {\n",
       "        vertical-align: top;\n",
       "    }\n",
       "\n",
       "    .dataframe thead th {\n",
       "        text-align: right;\n",
       "    }\n",
       "</style>\n",
       "<table border=\"1\" class=\"dataframe\">\n",
       "  <thead>\n",
       "    <tr style=\"text-align: right;\">\n",
       "      <th></th>\n",
       "      <th>ID</th>\n",
       "      <th>name</th>\n",
       "      <th>category</th>\n",
       "      <th>main_category</th>\n",
       "      <th>currency</th>\n",
       "      <th>deadline</th>\n",
       "      <th>goal</th>\n",
       "      <th>launched</th>\n",
       "      <th>pledged</th>\n",
       "      <th>state</th>\n",
       "      <th>backers</th>\n",
       "      <th>country</th>\n",
       "      <th>usd pledged</th>\n",
       "      <th>usd_pledged_real</th>\n",
       "      <th>usd_goal_real</th>\n",
       "    </tr>\n",
       "  </thead>\n",
       "  <tbody>\n",
       "    <tr>\n",
       "      <th>350302</th>\n",
       "      <td>854648390</td>\n",
       "      <td>Crystal Radio, Vinyl, Wooden Record, Playing C...</td>\n",
       "      <td>Music</td>\n",
       "      <td>Music</td>\n",
       "      <td>USD</td>\n",
       "      <td>2016-04-26</td>\n",
       "      <td>6500.0</td>\n",
       "      <td>2016-03-17 20:04:13</td>\n",
       "      <td>8889.0</td>\n",
       "      <td>successful</td>\n",
       "      <td>0</td>\n",
       "      <td>N,0\"</td>\n",
       "      <td>NaN</td>\n",
       "      <td>8889.00</td>\n",
       "      <td>6500.00</td>\n",
       "    </tr>\n",
       "    <tr>\n",
       "      <th>220490</th>\n",
       "      <td>2123028188</td>\n",
       "      <td>game laced the mixtape/ep</td>\n",
       "      <td>Music</td>\n",
       "      <td>Music</td>\n",
       "      <td>USD</td>\n",
       "      <td>2016-05-03</td>\n",
       "      <td>2000.0</td>\n",
       "      <td>2016-03-27 09:51:16</td>\n",
       "      <td>0.0</td>\n",
       "      <td>failed</td>\n",
       "      <td>0</td>\n",
       "      <td>N,0\"</td>\n",
       "      <td>NaN</td>\n",
       "      <td>0.00</td>\n",
       "      <td>2000.00</td>\n",
       "    </tr>\n",
       "    <tr>\n",
       "      <th>199536</th>\n",
       "      <td>2016163729</td>\n",
       "      <td>King James Entertainment Project</td>\n",
       "      <td>Music</td>\n",
       "      <td>Music</td>\n",
       "      <td>USD</td>\n",
       "      <td>2015-07-30</td>\n",
       "      <td>5000.0</td>\n",
       "      <td>2015-06-30 23:37:35</td>\n",
       "      <td>0.0</td>\n",
       "      <td>undefined</td>\n",
       "      <td>0</td>\n",
       "      <td>N,0\"</td>\n",
       "      <td>NaN</td>\n",
       "      <td>0.00</td>\n",
       "      <td>5000.00</td>\n",
       "    </tr>\n",
       "    <tr>\n",
       "      <th>15540</th>\n",
       "      <td>107859454</td>\n",
       "      <td>What The Fox Studios</td>\n",
       "      <td>Music</td>\n",
       "      <td>Music</td>\n",
       "      <td>GBP</td>\n",
       "      <td>2015-06-26</td>\n",
       "      <td>5000.0</td>\n",
       "      <td>2015-05-27 20:52:11</td>\n",
       "      <td>30.0</td>\n",
       "      <td>undefined</td>\n",
       "      <td>0</td>\n",
       "      <td>N,0\"</td>\n",
       "      <td>NaN</td>\n",
       "      <td>47.18</td>\n",
       "      <td>7863.24</td>\n",
       "    </tr>\n",
       "    <tr>\n",
       "      <th>332342</th>\n",
       "      <td>763044388</td>\n",
       "      <td>Record Cleaning Solution By Urban Vinyl</td>\n",
       "      <td>Music</td>\n",
       "      <td>Music</td>\n",
       "      <td>USD</td>\n",
       "      <td>2015-04-10</td>\n",
       "      <td>5000.0</td>\n",
       "      <td>2015-03-11 07:37:30</td>\n",
       "      <td>46.0</td>\n",
       "      <td>undefined</td>\n",
       "      <td>0</td>\n",
       "      <td>N,0\"</td>\n",
       "      <td>NaN</td>\n",
       "      <td>46.00</td>\n",
       "      <td>5000.00</td>\n",
       "    </tr>\n",
       "  </tbody>\n",
       "</table>\n",
       "</div>"
      ],
      "text/plain": [
       "                ID                                               name  \\\n",
       "350302   854648390  Crystal Radio, Vinyl, Wooden Record, Playing C...   \n",
       "220490  2123028188                          game laced the mixtape/ep   \n",
       "199536  2016163729                   King James Entertainment Project   \n",
       "15540    107859454                               What The Fox Studios   \n",
       "332342   763044388            Record Cleaning Solution By Urban Vinyl   \n",
       "\n",
       "       category main_category currency    deadline    goal  \\\n",
       "350302    Music         Music      USD  2016-04-26  6500.0   \n",
       "220490    Music         Music      USD  2016-05-03  2000.0   \n",
       "199536    Music         Music      USD  2015-07-30  5000.0   \n",
       "15540     Music         Music      GBP  2015-06-26  5000.0   \n",
       "332342    Music         Music      USD  2015-04-10  5000.0   \n",
       "\n",
       "                   launched  pledged       state  backers country  \\\n",
       "350302  2016-03-17 20:04:13   8889.0  successful        0    N,0\"   \n",
       "220490  2016-03-27 09:51:16      0.0      failed        0    N,0\"   \n",
       "199536  2015-06-30 23:37:35      0.0   undefined        0    N,0\"   \n",
       "15540   2015-05-27 20:52:11     30.0   undefined        0    N,0\"   \n",
       "332342  2015-03-11 07:37:30     46.0   undefined        0    N,0\"   \n",
       "\n",
       "        usd pledged  usd_pledged_real  usd_goal_real  \n",
       "350302          NaN           8889.00        6500.00  \n",
       "220490          NaN              0.00        2000.00  \n",
       "199536          NaN              0.00        5000.00  \n",
       "15540           NaN             47.18        7863.24  \n",
       "332342          NaN             46.00        5000.00  "
      ]
     },
     "execution_count": 7,
     "metadata": {},
     "output_type": "execute_result"
    }
   ],
   "source": [
    "#Menunjukkan missing value pada kolom 'usd pledged'\n",
    "df.loc[\n",
    "    (df['usd pledged'].isnull())\n",
    "].sample(5)"
   ]
  },
  {
   "cell_type": "code",
   "execution_count": 8,
   "metadata": {},
   "outputs": [
    {
     "data": {
      "text/html": [
       "<div>\n",
       "<style scoped>\n",
       "    .dataframe tbody tr th:only-of-type {\n",
       "        vertical-align: middle;\n",
       "    }\n",
       "\n",
       "    .dataframe tbody tr th {\n",
       "        vertical-align: top;\n",
       "    }\n",
       "\n",
       "    .dataframe thead th {\n",
       "        text-align: right;\n",
       "    }\n",
       "</style>\n",
       "<table border=\"1\" class=\"dataframe\">\n",
       "  <thead>\n",
       "    <tr style=\"text-align: right;\">\n",
       "      <th></th>\n",
       "      <th>ID</th>\n",
       "      <th>name</th>\n",
       "      <th>category</th>\n",
       "      <th>main_category</th>\n",
       "      <th>currency</th>\n",
       "      <th>deadline</th>\n",
       "      <th>goal</th>\n",
       "      <th>launched</th>\n",
       "      <th>pledged</th>\n",
       "      <th>state</th>\n",
       "      <th>backers</th>\n",
       "      <th>country</th>\n",
       "      <th>usd pledged</th>\n",
       "      <th>usd_pledged_real</th>\n",
       "      <th>usd_goal_real</th>\n",
       "    </tr>\n",
       "  </thead>\n",
       "  <tbody>\n",
       "    <tr>\n",
       "      <th>0</th>\n",
       "      <td>1000002330</td>\n",
       "      <td>The Songs of Adelaide &amp; Abullah</td>\n",
       "      <td>Poetry</td>\n",
       "      <td>Publishing</td>\n",
       "      <td>GBP</td>\n",
       "      <td>2015-10-09</td>\n",
       "      <td>1000.0</td>\n",
       "      <td>2015-08-11 12:12:28</td>\n",
       "      <td>0.0</td>\n",
       "      <td>failed</td>\n",
       "      <td>0</td>\n",
       "      <td>GB</td>\n",
       "      <td>0.0</td>\n",
       "      <td>0.0</td>\n",
       "      <td>1533.95</td>\n",
       "    </tr>\n",
       "    <tr>\n",
       "      <th>1</th>\n",
       "      <td>1000003930</td>\n",
       "      <td>Greeting From Earth: ZGAC Arts Capsule For ET</td>\n",
       "      <td>Narrative Film</td>\n",
       "      <td>Film &amp; Video</td>\n",
       "      <td>USD</td>\n",
       "      <td>2017-11-01</td>\n",
       "      <td>30000.0</td>\n",
       "      <td>2017-09-02 04:43:57</td>\n",
       "      <td>2421.0</td>\n",
       "      <td>failed</td>\n",
       "      <td>15</td>\n",
       "      <td>US</td>\n",
       "      <td>100.0</td>\n",
       "      <td>2421.0</td>\n",
       "      <td>30000.00</td>\n",
       "    </tr>\n",
       "    <tr>\n",
       "      <th>2</th>\n",
       "      <td>1000004038</td>\n",
       "      <td>Where is Hank?</td>\n",
       "      <td>Narrative Film</td>\n",
       "      <td>Film &amp; Video</td>\n",
       "      <td>USD</td>\n",
       "      <td>2013-02-26</td>\n",
       "      <td>45000.0</td>\n",
       "      <td>2013-01-12 00:20:50</td>\n",
       "      <td>220.0</td>\n",
       "      <td>failed</td>\n",
       "      <td>3</td>\n",
       "      <td>US</td>\n",
       "      <td>220.0</td>\n",
       "      <td>220.0</td>\n",
       "      <td>45000.00</td>\n",
       "    </tr>\n",
       "    <tr>\n",
       "      <th>3</th>\n",
       "      <td>1000007540</td>\n",
       "      <td>ToshiCapital Rekordz Needs Help to Complete Album</td>\n",
       "      <td>Music</td>\n",
       "      <td>Music</td>\n",
       "      <td>USD</td>\n",
       "      <td>2012-04-16</td>\n",
       "      <td>5000.0</td>\n",
       "      <td>2012-03-17 03:24:11</td>\n",
       "      <td>1.0</td>\n",
       "      <td>failed</td>\n",
       "      <td>1</td>\n",
       "      <td>US</td>\n",
       "      <td>1.0</td>\n",
       "      <td>1.0</td>\n",
       "      <td>5000.00</td>\n",
       "    </tr>\n",
       "    <tr>\n",
       "      <th>4</th>\n",
       "      <td>1000011046</td>\n",
       "      <td>Community Film Project: The Art of Neighborhoo...</td>\n",
       "      <td>Film &amp; Video</td>\n",
       "      <td>Film &amp; Video</td>\n",
       "      <td>USD</td>\n",
       "      <td>2015-08-29</td>\n",
       "      <td>19500.0</td>\n",
       "      <td>2015-07-04 08:35:03</td>\n",
       "      <td>1283.0</td>\n",
       "      <td>canceled</td>\n",
       "      <td>14</td>\n",
       "      <td>US</td>\n",
       "      <td>1283.0</td>\n",
       "      <td>1283.0</td>\n",
       "      <td>19500.00</td>\n",
       "    </tr>\n",
       "  </tbody>\n",
       "</table>\n",
       "</div>"
      ],
      "text/plain": [
       "           ID                                               name  \\\n",
       "0  1000002330                    The Songs of Adelaide & Abullah   \n",
       "1  1000003930      Greeting From Earth: ZGAC Arts Capsule For ET   \n",
       "2  1000004038                                     Where is Hank?   \n",
       "3  1000007540  ToshiCapital Rekordz Needs Help to Complete Album   \n",
       "4  1000011046  Community Film Project: The Art of Neighborhoo...   \n",
       "\n",
       "         category main_category currency    deadline     goal  \\\n",
       "0          Poetry    Publishing      GBP  2015-10-09   1000.0   \n",
       "1  Narrative Film  Film & Video      USD  2017-11-01  30000.0   \n",
       "2  Narrative Film  Film & Video      USD  2013-02-26  45000.0   \n",
       "3           Music         Music      USD  2012-04-16   5000.0   \n",
       "4    Film & Video  Film & Video      USD  2015-08-29  19500.0   \n",
       "\n",
       "              launched  pledged     state  backers country  usd pledged  \\\n",
       "0  2015-08-11 12:12:28      0.0    failed        0      GB          0.0   \n",
       "1  2017-09-02 04:43:57   2421.0    failed       15      US        100.0   \n",
       "2  2013-01-12 00:20:50    220.0    failed        3      US        220.0   \n",
       "3  2012-03-17 03:24:11      1.0    failed        1      US          1.0   \n",
       "4  2015-07-04 08:35:03   1283.0  canceled       14      US       1283.0   \n",
       "\n",
       "   usd_pledged_real  usd_goal_real  \n",
       "0               0.0        1533.95  \n",
       "1            2421.0       30000.00  \n",
       "2             220.0       45000.00  \n",
       "3               1.0        5000.00  \n",
       "4            1283.0       19500.00  "
      ]
     },
     "execution_count": 8,
     "metadata": {},
     "output_type": "execute_result"
    }
   ],
   "source": [
    "df['usd pledged'].fillna(df['usd_pledged_real'], inplace = True)\n",
    "df.head(5)"
   ]
  },
  {
   "cell_type": "markdown",
   "metadata": {},
   "source": [
    "Dari hasil diatas kita dapat melihat pada bagian kolom **country** ketidakadaaan informasi seputar asal **country** yang berisi N,0\" pada bagian project tersebut, maka dengan kita bisa melakukan replacing kembali dengan kolom **currency**."
   ]
  },
  {
   "cell_type": "code",
   "execution_count": 9,
   "metadata": {},
   "outputs": [],
   "source": [
    "#Replacing isi data 'N,0\"' menjadi data yang kosong\n",
    "df['country'].replace('N,0\"', np.NaN, inplace=True)\n",
    "#Replacing data NaN dengan berdasarkan dengan mata uang negara tersebut\n",
    "df['country'].fillna(df['currency'], inplace=True)"
   ]
  },
  {
   "cell_type": "markdown",
   "metadata": {},
   "source": [
    "Setelah melakukan proses cleaning pada missing value, pengantian dataframe awal menjadi dataframe yang baru."
   ]
  },
  {
   "cell_type": "code",
   "execution_count": 10,
   "metadata": {},
   "outputs": [],
   "source": [
    "#variabel dataframe setelah pembersihan\n",
    "df_new = df"
   ]
  },
  {
   "cell_type": "markdown",
   "metadata": {},
   "source": [
    "## IV. Data Exploration\n",
    "\n",
    "Bagian ini berisi explorasi data pada dataset diatas dengan menggunakan query, grouping, visualisasi sederhana, dan lain sebagainya.\n",
    "\n",
    "Dari hal ini kita akan mencari tahu bagaimana perbandingan setiap project yang berhasil dan gagal."
   ]
  },
  {
   "cell_type": "code",
   "execution_count": 11,
   "metadata": {},
   "outputs": [
    {
     "data": {
      "text/html": [
       "<div>\n",
       "<style scoped>\n",
       "    .dataframe tbody tr th:only-of-type {\n",
       "        vertical-align: middle;\n",
       "    }\n",
       "\n",
       "    .dataframe tbody tr th {\n",
       "        vertical-align: top;\n",
       "    }\n",
       "\n",
       "    .dataframe thead th {\n",
       "        text-align: right;\n",
       "    }\n",
       "</style>\n",
       "<table border=\"1\" class=\"dataframe\">\n",
       "  <thead>\n",
       "    <tr style=\"text-align: right;\">\n",
       "      <th></th>\n",
       "      <th>ID</th>\n",
       "      <th>name</th>\n",
       "      <th>category</th>\n",
       "      <th>main_category</th>\n",
       "      <th>currency</th>\n",
       "      <th>deadline</th>\n",
       "      <th>goal</th>\n",
       "      <th>launched</th>\n",
       "      <th>pledged</th>\n",
       "      <th>state</th>\n",
       "      <th>backers</th>\n",
       "      <th>country</th>\n",
       "      <th>usd pledged</th>\n",
       "      <th>usd_pledged_real</th>\n",
       "      <th>usd_goal_real</th>\n",
       "    </tr>\n",
       "  </thead>\n",
       "  <tbody>\n",
       "    <tr>\n",
       "      <th>0</th>\n",
       "      <td>1000002330</td>\n",
       "      <td>The Songs of Adelaide &amp; Abullah</td>\n",
       "      <td>Poetry</td>\n",
       "      <td>Publishing</td>\n",
       "      <td>GBP</td>\n",
       "      <td>2015-10-09</td>\n",
       "      <td>1000.0</td>\n",
       "      <td>2015-08-11 12:12:28</td>\n",
       "      <td>0.0</td>\n",
       "      <td>failed</td>\n",
       "      <td>0</td>\n",
       "      <td>GB</td>\n",
       "      <td>0.0</td>\n",
       "      <td>0.0</td>\n",
       "      <td>1533.95</td>\n",
       "    </tr>\n",
       "    <tr>\n",
       "      <th>1</th>\n",
       "      <td>1000003930</td>\n",
       "      <td>Greeting From Earth: ZGAC Arts Capsule For ET</td>\n",
       "      <td>Narrative Film</td>\n",
       "      <td>Film &amp; Video</td>\n",
       "      <td>USD</td>\n",
       "      <td>2017-11-01</td>\n",
       "      <td>30000.0</td>\n",
       "      <td>2017-09-02 04:43:57</td>\n",
       "      <td>2421.0</td>\n",
       "      <td>failed</td>\n",
       "      <td>15</td>\n",
       "      <td>US</td>\n",
       "      <td>100.0</td>\n",
       "      <td>2421.0</td>\n",
       "      <td>30000.00</td>\n",
       "    </tr>\n",
       "    <tr>\n",
       "      <th>2</th>\n",
       "      <td>1000004038</td>\n",
       "      <td>Where is Hank?</td>\n",
       "      <td>Narrative Film</td>\n",
       "      <td>Film &amp; Video</td>\n",
       "      <td>USD</td>\n",
       "      <td>2013-02-26</td>\n",
       "      <td>45000.0</td>\n",
       "      <td>2013-01-12 00:20:50</td>\n",
       "      <td>220.0</td>\n",
       "      <td>failed</td>\n",
       "      <td>3</td>\n",
       "      <td>US</td>\n",
       "      <td>220.0</td>\n",
       "      <td>220.0</td>\n",
       "      <td>45000.00</td>\n",
       "    </tr>\n",
       "    <tr>\n",
       "      <th>3</th>\n",
       "      <td>1000007540</td>\n",
       "      <td>ToshiCapital Rekordz Needs Help to Complete Album</td>\n",
       "      <td>Music</td>\n",
       "      <td>Music</td>\n",
       "      <td>USD</td>\n",
       "      <td>2012-04-16</td>\n",
       "      <td>5000.0</td>\n",
       "      <td>2012-03-17 03:24:11</td>\n",
       "      <td>1.0</td>\n",
       "      <td>failed</td>\n",
       "      <td>1</td>\n",
       "      <td>US</td>\n",
       "      <td>1.0</td>\n",
       "      <td>1.0</td>\n",
       "      <td>5000.00</td>\n",
       "    </tr>\n",
       "    <tr>\n",
       "      <th>4</th>\n",
       "      <td>1000011046</td>\n",
       "      <td>Community Film Project: The Art of Neighborhoo...</td>\n",
       "      <td>Film &amp; Video</td>\n",
       "      <td>Film &amp; Video</td>\n",
       "      <td>USD</td>\n",
       "      <td>2015-08-29</td>\n",
       "      <td>19500.0</td>\n",
       "      <td>2015-07-04 08:35:03</td>\n",
       "      <td>1283.0</td>\n",
       "      <td>canceled</td>\n",
       "      <td>14</td>\n",
       "      <td>US</td>\n",
       "      <td>1283.0</td>\n",
       "      <td>1283.0</td>\n",
       "      <td>19500.00</td>\n",
       "    </tr>\n",
       "  </tbody>\n",
       "</table>\n",
       "</div>"
      ],
      "text/plain": [
       "           ID                                               name  \\\n",
       "0  1000002330                    The Songs of Adelaide & Abullah   \n",
       "1  1000003930      Greeting From Earth: ZGAC Arts Capsule For ET   \n",
       "2  1000004038                                     Where is Hank?   \n",
       "3  1000007540  ToshiCapital Rekordz Needs Help to Complete Album   \n",
       "4  1000011046  Community Film Project: The Art of Neighborhoo...   \n",
       "\n",
       "         category main_category currency    deadline     goal  \\\n",
       "0          Poetry    Publishing      GBP  2015-10-09   1000.0   \n",
       "1  Narrative Film  Film & Video      USD  2017-11-01  30000.0   \n",
       "2  Narrative Film  Film & Video      USD  2013-02-26  45000.0   \n",
       "3           Music         Music      USD  2012-04-16   5000.0   \n",
       "4    Film & Video  Film & Video      USD  2015-08-29  19500.0   \n",
       "\n",
       "              launched  pledged     state  backers country  usd pledged  \\\n",
       "0  2015-08-11 12:12:28      0.0    failed        0      GB          0.0   \n",
       "1  2017-09-02 04:43:57   2421.0    failed       15      US        100.0   \n",
       "2  2013-01-12 00:20:50    220.0    failed        3      US        220.0   \n",
       "3  2012-03-17 03:24:11      1.0    failed        1      US          1.0   \n",
       "4  2015-07-04 08:35:03   1283.0  canceled       14      US       1283.0   \n",
       "\n",
       "   usd_pledged_real  usd_goal_real  \n",
       "0               0.0        1533.95  \n",
       "1            2421.0       30000.00  \n",
       "2             220.0       45000.00  \n",
       "3               1.0        5000.00  \n",
       "4            1283.0       19500.00  "
      ]
     },
     "execution_count": 11,
     "metadata": {},
     "output_type": "execute_result"
    }
   ],
   "source": [
    "#Menampil 5 data teratas\n",
    "df_new.head(5)"
   ]
  },
  {
   "cell_type": "code",
   "execution_count": 12,
   "metadata": {},
   "outputs": [
    {
     "data": {
      "text/html": [
       "<div>\n",
       "<style scoped>\n",
       "    .dataframe tbody tr th:only-of-type {\n",
       "        vertical-align: middle;\n",
       "    }\n",
       "\n",
       "    .dataframe tbody tr th {\n",
       "        vertical-align: top;\n",
       "    }\n",
       "\n",
       "    .dataframe thead th {\n",
       "        text-align: right;\n",
       "    }\n",
       "</style>\n",
       "<table border=\"1\" class=\"dataframe\">\n",
       "  <thead>\n",
       "    <tr style=\"text-align: right;\">\n",
       "      <th></th>\n",
       "      <th>ID</th>\n",
       "      <th>name</th>\n",
       "      <th>category</th>\n",
       "      <th>main_category</th>\n",
       "      <th>currency</th>\n",
       "      <th>deadline</th>\n",
       "      <th>goal</th>\n",
       "      <th>launched</th>\n",
       "      <th>pledged</th>\n",
       "      <th>state</th>\n",
       "      <th>backers</th>\n",
       "      <th>country</th>\n",
       "      <th>usd pledged</th>\n",
       "      <th>usd_pledged_real</th>\n",
       "      <th>usd_goal_real</th>\n",
       "    </tr>\n",
       "  </thead>\n",
       "  <tbody>\n",
       "    <tr>\n",
       "      <th>378656</th>\n",
       "      <td>999976400</td>\n",
       "      <td>ChknTruk Nationwide Charity Drive 2014 (Canceled)</td>\n",
       "      <td>Documentary</td>\n",
       "      <td>Film &amp; Video</td>\n",
       "      <td>USD</td>\n",
       "      <td>2014-10-17</td>\n",
       "      <td>50000.0</td>\n",
       "      <td>2014-09-17 02:35:30</td>\n",
       "      <td>25.0</td>\n",
       "      <td>canceled</td>\n",
       "      <td>1</td>\n",
       "      <td>US</td>\n",
       "      <td>25.0</td>\n",
       "      <td>25.0</td>\n",
       "      <td>50000.0</td>\n",
       "    </tr>\n",
       "    <tr>\n",
       "      <th>378657</th>\n",
       "      <td>999977640</td>\n",
       "      <td>The Tribe</td>\n",
       "      <td>Narrative Film</td>\n",
       "      <td>Film &amp; Video</td>\n",
       "      <td>USD</td>\n",
       "      <td>2011-07-19</td>\n",
       "      <td>1500.0</td>\n",
       "      <td>2011-06-22 03:35:14</td>\n",
       "      <td>155.0</td>\n",
       "      <td>failed</td>\n",
       "      <td>5</td>\n",
       "      <td>US</td>\n",
       "      <td>155.0</td>\n",
       "      <td>155.0</td>\n",
       "      <td>1500.0</td>\n",
       "    </tr>\n",
       "    <tr>\n",
       "      <th>378658</th>\n",
       "      <td>999986353</td>\n",
       "      <td>Walls of Remedy- New lesbian Romantic Comedy f...</td>\n",
       "      <td>Narrative Film</td>\n",
       "      <td>Film &amp; Video</td>\n",
       "      <td>USD</td>\n",
       "      <td>2010-08-16</td>\n",
       "      <td>15000.0</td>\n",
       "      <td>2010-07-01 19:40:30</td>\n",
       "      <td>20.0</td>\n",
       "      <td>failed</td>\n",
       "      <td>1</td>\n",
       "      <td>US</td>\n",
       "      <td>20.0</td>\n",
       "      <td>20.0</td>\n",
       "      <td>15000.0</td>\n",
       "    </tr>\n",
       "    <tr>\n",
       "      <th>378659</th>\n",
       "      <td>999987933</td>\n",
       "      <td>BioDefense Education Kit</td>\n",
       "      <td>Technology</td>\n",
       "      <td>Technology</td>\n",
       "      <td>USD</td>\n",
       "      <td>2016-02-13</td>\n",
       "      <td>15000.0</td>\n",
       "      <td>2016-01-13 18:13:53</td>\n",
       "      <td>200.0</td>\n",
       "      <td>failed</td>\n",
       "      <td>6</td>\n",
       "      <td>US</td>\n",
       "      <td>200.0</td>\n",
       "      <td>200.0</td>\n",
       "      <td>15000.0</td>\n",
       "    </tr>\n",
       "    <tr>\n",
       "      <th>378660</th>\n",
       "      <td>999988282</td>\n",
       "      <td>Nou Renmen Ayiti!  We Love Haiti!</td>\n",
       "      <td>Performance Art</td>\n",
       "      <td>Art</td>\n",
       "      <td>USD</td>\n",
       "      <td>2011-08-16</td>\n",
       "      <td>2000.0</td>\n",
       "      <td>2011-07-19 09:07:47</td>\n",
       "      <td>524.0</td>\n",
       "      <td>failed</td>\n",
       "      <td>17</td>\n",
       "      <td>US</td>\n",
       "      <td>524.0</td>\n",
       "      <td>524.0</td>\n",
       "      <td>2000.0</td>\n",
       "    </tr>\n",
       "  </tbody>\n",
       "</table>\n",
       "</div>"
      ],
      "text/plain": [
       "               ID                                               name  \\\n",
       "378656  999976400  ChknTruk Nationwide Charity Drive 2014 (Canceled)   \n",
       "378657  999977640                                          The Tribe   \n",
       "378658  999986353  Walls of Remedy- New lesbian Romantic Comedy f...   \n",
       "378659  999987933                           BioDefense Education Kit   \n",
       "378660  999988282                  Nou Renmen Ayiti!  We Love Haiti!   \n",
       "\n",
       "               category main_category currency    deadline     goal  \\\n",
       "378656      Documentary  Film & Video      USD  2014-10-17  50000.0   \n",
       "378657   Narrative Film  Film & Video      USD  2011-07-19   1500.0   \n",
       "378658   Narrative Film  Film & Video      USD  2010-08-16  15000.0   \n",
       "378659       Technology    Technology      USD  2016-02-13  15000.0   \n",
       "378660  Performance Art           Art      USD  2011-08-16   2000.0   \n",
       "\n",
       "                   launched  pledged     state  backers country  usd pledged  \\\n",
       "378656  2014-09-17 02:35:30     25.0  canceled        1      US         25.0   \n",
       "378657  2011-06-22 03:35:14    155.0    failed        5      US        155.0   \n",
       "378658  2010-07-01 19:40:30     20.0    failed        1      US         20.0   \n",
       "378659  2016-01-13 18:13:53    200.0    failed        6      US        200.0   \n",
       "378660  2011-07-19 09:07:47    524.0    failed       17      US        524.0   \n",
       "\n",
       "        usd_pledged_real  usd_goal_real  \n",
       "378656              25.0        50000.0  \n",
       "378657             155.0         1500.0  \n",
       "378658              20.0        15000.0  \n",
       "378659             200.0        15000.0  \n",
       "378660             524.0         2000.0  "
      ]
     },
     "execution_count": 12,
     "metadata": {},
     "output_type": "execute_result"
    }
   ],
   "source": [
    "#Menampilkan 5 data terbawah\n",
    "df_new.tail(5)"
   ]
  },
  {
   "cell_type": "code",
   "execution_count": 13,
   "metadata": {},
   "outputs": [
    {
     "data": {
      "text/html": [
       "<div>\n",
       "<style scoped>\n",
       "    .dataframe tbody tr th:only-of-type {\n",
       "        vertical-align: middle;\n",
       "    }\n",
       "\n",
       "    .dataframe tbody tr th {\n",
       "        vertical-align: top;\n",
       "    }\n",
       "\n",
       "    .dataframe thead th {\n",
       "        text-align: right;\n",
       "    }\n",
       "</style>\n",
       "<table border=\"1\" class=\"dataframe\">\n",
       "  <thead>\n",
       "    <tr style=\"text-align: right;\">\n",
       "      <th></th>\n",
       "      <th>ID</th>\n",
       "      <th>name</th>\n",
       "      <th>category</th>\n",
       "      <th>main_category</th>\n",
       "      <th>currency</th>\n",
       "      <th>deadline</th>\n",
       "      <th>goal</th>\n",
       "      <th>launched</th>\n",
       "      <th>pledged</th>\n",
       "      <th>state</th>\n",
       "      <th>backers</th>\n",
       "      <th>country</th>\n",
       "      <th>usd pledged</th>\n",
       "      <th>usd_pledged_real</th>\n",
       "      <th>usd_goal_real</th>\n",
       "    </tr>\n",
       "  </thead>\n",
       "  <tbody>\n",
       "    <tr>\n",
       "      <th>157270</th>\n",
       "      <td>1799979574</td>\n",
       "      <td>Pebble Time - Awesome Smartwatch, No Compromises</td>\n",
       "      <td>Product Design</td>\n",
       "      <td>Design</td>\n",
       "      <td>USD</td>\n",
       "      <td>2015-03-28</td>\n",
       "      <td>500000.0</td>\n",
       "      <td>2015-02-24 15:44:42</td>\n",
       "      <td>20338986.27</td>\n",
       "      <td>successful</td>\n",
       "      <td>78471</td>\n",
       "      <td>US</td>\n",
       "      <td>20338986.27</td>\n",
       "      <td>20338986.27</td>\n",
       "      <td>500000.0</td>\n",
       "    </tr>\n",
       "    <tr>\n",
       "      <th>250254</th>\n",
       "      <td>342886736</td>\n",
       "      <td>COOLEST COOLER: 21st Century Cooler that's Act...</td>\n",
       "      <td>Product Design</td>\n",
       "      <td>Design</td>\n",
       "      <td>USD</td>\n",
       "      <td>2014-08-30</td>\n",
       "      <td>50000.0</td>\n",
       "      <td>2014-07-08 10:14:37</td>\n",
       "      <td>13285226.36</td>\n",
       "      <td>successful</td>\n",
       "      <td>62642</td>\n",
       "      <td>US</td>\n",
       "      <td>13285226.36</td>\n",
       "      <td>13285226.36</td>\n",
       "      <td>50000.0</td>\n",
       "    </tr>\n",
       "    <tr>\n",
       "      <th>216629</th>\n",
       "      <td>2103598555</td>\n",
       "      <td>Pebble 2, Time 2 + All-New Pebble Core</td>\n",
       "      <td>Product Design</td>\n",
       "      <td>Design</td>\n",
       "      <td>USD</td>\n",
       "      <td>2016-06-30</td>\n",
       "      <td>1000000.0</td>\n",
       "      <td>2016-05-24 15:49:52</td>\n",
       "      <td>12779843.49</td>\n",
       "      <td>successful</td>\n",
       "      <td>66673</td>\n",
       "      <td>US</td>\n",
       "      <td>12779843.49</td>\n",
       "      <td>12779843.49</td>\n",
       "      <td>1000000.0</td>\n",
       "    </tr>\n",
       "    <tr>\n",
       "      <th>282416</th>\n",
       "      <td>506924864</td>\n",
       "      <td>Pebble: E-Paper Watch for iPhone and Android</td>\n",
       "      <td>Product Design</td>\n",
       "      <td>Design</td>\n",
       "      <td>USD</td>\n",
       "      <td>2012-05-19</td>\n",
       "      <td>100000.0</td>\n",
       "      <td>2012-04-11 06:59:04</td>\n",
       "      <td>10266845.74</td>\n",
       "      <td>successful</td>\n",
       "      <td>68929</td>\n",
       "      <td>US</td>\n",
       "      <td>10266845.74</td>\n",
       "      <td>10266845.74</td>\n",
       "      <td>100000.0</td>\n",
       "    </tr>\n",
       "    <tr>\n",
       "      <th>293861</th>\n",
       "      <td>565687737</td>\n",
       "      <td>The World's Best TRAVEL JACKET with 15 Feature...</td>\n",
       "      <td>Product Design</td>\n",
       "      <td>Design</td>\n",
       "      <td>USD</td>\n",
       "      <td>2015-09-03</td>\n",
       "      <td>20000.0</td>\n",
       "      <td>2015-07-07 13:52:34</td>\n",
       "      <td>9192055.66</td>\n",
       "      <td>successful</td>\n",
       "      <td>44949</td>\n",
       "      <td>US</td>\n",
       "      <td>9192055.66</td>\n",
       "      <td>9192055.66</td>\n",
       "      <td>20000.0</td>\n",
       "    </tr>\n",
       "  </tbody>\n",
       "</table>\n",
       "</div>"
      ],
      "text/plain": [
       "                ID                                               name  \\\n",
       "157270  1799979574   Pebble Time - Awesome Smartwatch, No Compromises   \n",
       "250254   342886736  COOLEST COOLER: 21st Century Cooler that's Act...   \n",
       "216629  2103598555             Pebble 2, Time 2 + All-New Pebble Core   \n",
       "282416   506924864       Pebble: E-Paper Watch for iPhone and Android   \n",
       "293861   565687737  The World's Best TRAVEL JACKET with 15 Feature...   \n",
       "\n",
       "              category main_category currency    deadline       goal  \\\n",
       "157270  Product Design        Design      USD  2015-03-28   500000.0   \n",
       "250254  Product Design        Design      USD  2014-08-30    50000.0   \n",
       "216629  Product Design        Design      USD  2016-06-30  1000000.0   \n",
       "282416  Product Design        Design      USD  2012-05-19   100000.0   \n",
       "293861  Product Design        Design      USD  2015-09-03    20000.0   \n",
       "\n",
       "                   launched      pledged       state  backers country  \\\n",
       "157270  2015-02-24 15:44:42  20338986.27  successful    78471      US   \n",
       "250254  2014-07-08 10:14:37  13285226.36  successful    62642      US   \n",
       "216629  2016-05-24 15:49:52  12779843.49  successful    66673      US   \n",
       "282416  2012-04-11 06:59:04  10266845.74  successful    68929      US   \n",
       "293861  2015-07-07 13:52:34   9192055.66  successful    44949      US   \n",
       "\n",
       "        usd pledged  usd_pledged_real  usd_goal_real  \n",
       "157270  20338986.27       20338986.27       500000.0  \n",
       "250254  13285226.36       13285226.36        50000.0  \n",
       "216629  12779843.49       12779843.49      1000000.0  \n",
       "282416  10266845.74       10266845.74       100000.0  \n",
       "293861   9192055.66        9192055.66        20000.0  "
      ]
     },
     "execution_count": 13,
     "metadata": {},
     "output_type": "execute_result"
    }
   ],
   "source": [
    "#Melihat 5 peringkat dari usd pledged tertinggi\n",
    "df_new.sort_values('usd pledged',ascending=False).head(5)  "
   ]
  },
  {
   "cell_type": "code",
   "execution_count": 14,
   "metadata": {},
   "outputs": [
    {
     "data": {
      "text/html": [
       "<div>\n",
       "<style scoped>\n",
       "    .dataframe tbody tr th:only-of-type {\n",
       "        vertical-align: middle;\n",
       "    }\n",
       "\n",
       "    .dataframe tbody tr th {\n",
       "        vertical-align: top;\n",
       "    }\n",
       "\n",
       "    .dataframe thead th {\n",
       "        text-align: right;\n",
       "    }\n",
       "</style>\n",
       "<table border=\"1\" class=\"dataframe\">\n",
       "  <thead>\n",
       "    <tr style=\"text-align: right;\">\n",
       "      <th></th>\n",
       "      <th>ID</th>\n",
       "      <th>name</th>\n",
       "      <th>category</th>\n",
       "      <th>main_category</th>\n",
       "      <th>currency</th>\n",
       "      <th>deadline</th>\n",
       "      <th>goal</th>\n",
       "      <th>launched</th>\n",
       "      <th>pledged</th>\n",
       "      <th>state</th>\n",
       "      <th>backers</th>\n",
       "      <th>country</th>\n",
       "      <th>usd pledged</th>\n",
       "      <th>usd_pledged_real</th>\n",
       "      <th>usd_goal_real</th>\n",
       "    </tr>\n",
       "  </thead>\n",
       "  <tbody>\n",
       "    <tr>\n",
       "      <th>95890</th>\n",
       "      <td>1487427501</td>\n",
       "      <td>IDE-Plugins for the Galenframework</td>\n",
       "      <td>Software</td>\n",
       "      <td>Technology</td>\n",
       "      <td>EUR</td>\n",
       "      <td>2016-06-12</td>\n",
       "      <td>6000.0</td>\n",
       "      <td>2016-04-13 06:14:28</td>\n",
       "      <td>0.0</td>\n",
       "      <td>failed</td>\n",
       "      <td>0</td>\n",
       "      <td>DE</td>\n",
       "      <td>0.0</td>\n",
       "      <td>0.0</td>\n",
       "      <td>6752.42</td>\n",
       "    </tr>\n",
       "    <tr>\n",
       "      <th>95893</th>\n",
       "      <td>1487433816</td>\n",
       "      <td>Play Alll 9- The Baseball Player's Brand</td>\n",
       "      <td>Apparel</td>\n",
       "      <td>Fashion</td>\n",
       "      <td>USD</td>\n",
       "      <td>2016-12-07</td>\n",
       "      <td>10000.0</td>\n",
       "      <td>2016-11-07 18:26:25</td>\n",
       "      <td>451.0</td>\n",
       "      <td>failed</td>\n",
       "      <td>7</td>\n",
       "      <td>US</td>\n",
       "      <td>0.0</td>\n",
       "      <td>451.0</td>\n",
       "      <td>10000.00</td>\n",
       "    </tr>\n",
       "    <tr>\n",
       "      <th>95896</th>\n",
       "      <td>1487455241</td>\n",
       "      <td>Cat's Club</td>\n",
       "      <td>Fashion</td>\n",
       "      <td>Fashion</td>\n",
       "      <td>EUR</td>\n",
       "      <td>2015-12-24</td>\n",
       "      <td>50000.0</td>\n",
       "      <td>2015-11-24 22:00:59</td>\n",
       "      <td>0.0</td>\n",
       "      <td>failed</td>\n",
       "      <td>0</td>\n",
       "      <td>IT</td>\n",
       "      <td>0.0</td>\n",
       "      <td>0.0</td>\n",
       "      <td>54735.14</td>\n",
       "    </tr>\n",
       "    <tr>\n",
       "      <th>95897</th>\n",
       "      <td>1487460610</td>\n",
       "      <td>Real-Time Application Messaging (Canceled)</td>\n",
       "      <td>Software</td>\n",
       "      <td>Technology</td>\n",
       "      <td>EUR</td>\n",
       "      <td>2016-01-30</td>\n",
       "      <td>50000.0</td>\n",
       "      <td>2015-12-01 11:48:19</td>\n",
       "      <td>0.0</td>\n",
       "      <td>canceled</td>\n",
       "      <td>0</td>\n",
       "      <td>IT</td>\n",
       "      <td>0.0</td>\n",
       "      <td>0.0</td>\n",
       "      <td>56009.86</td>\n",
       "    </tr>\n",
       "    <tr>\n",
       "      <th>0</th>\n",
       "      <td>1000002330</td>\n",
       "      <td>The Songs of Adelaide &amp; Abullah</td>\n",
       "      <td>Poetry</td>\n",
       "      <td>Publishing</td>\n",
       "      <td>GBP</td>\n",
       "      <td>2015-10-09</td>\n",
       "      <td>1000.0</td>\n",
       "      <td>2015-08-11 12:12:28</td>\n",
       "      <td>0.0</td>\n",
       "      <td>failed</td>\n",
       "      <td>0</td>\n",
       "      <td>GB</td>\n",
       "      <td>0.0</td>\n",
       "      <td>0.0</td>\n",
       "      <td>1533.95</td>\n",
       "    </tr>\n",
       "  </tbody>\n",
       "</table>\n",
       "</div>"
      ],
      "text/plain": [
       "               ID                                        name  category  \\\n",
       "95890  1487427501          IDE-Plugins for the Galenframework  Software   \n",
       "95893  1487433816    Play Alll 9- The Baseball Player's Brand   Apparel   \n",
       "95896  1487455241                                  Cat's Club   Fashion   \n",
       "95897  1487460610  Real-Time Application Messaging (Canceled)  Software   \n",
       "0      1000002330             The Songs of Adelaide & Abullah    Poetry   \n",
       "\n",
       "      main_category currency    deadline     goal             launched  \\\n",
       "95890    Technology      EUR  2016-06-12   6000.0  2016-04-13 06:14:28   \n",
       "95893       Fashion      USD  2016-12-07  10000.0  2016-11-07 18:26:25   \n",
       "95896       Fashion      EUR  2015-12-24  50000.0  2015-11-24 22:00:59   \n",
       "95897    Technology      EUR  2016-01-30  50000.0  2015-12-01 11:48:19   \n",
       "0        Publishing      GBP  2015-10-09   1000.0  2015-08-11 12:12:28   \n",
       "\n",
       "       pledged     state  backers country  usd pledged  usd_pledged_real  \\\n",
       "95890      0.0    failed        0      DE          0.0               0.0   \n",
       "95893    451.0    failed        7      US          0.0             451.0   \n",
       "95896      0.0    failed        0      IT          0.0               0.0   \n",
       "95897      0.0  canceled        0      IT          0.0               0.0   \n",
       "0          0.0    failed        0      GB          0.0               0.0   \n",
       "\n",
       "       usd_goal_real  \n",
       "95890        6752.42  \n",
       "95893       10000.00  \n",
       "95896       54735.14  \n",
       "95897       56009.86  \n",
       "0            1533.95  "
      ]
     },
     "execution_count": 14,
     "metadata": {},
     "output_type": "execute_result"
    }
   ],
   "source": [
    "#Melihat 5 peringkat dari usd pledged terendah\n",
    "df_new.sort_values('usd pledged',ascending=False).tail(5)  "
   ]
  },
  {
   "cell_type": "code",
   "execution_count": 15,
   "metadata": {},
   "outputs": [
    {
     "name": "stdout",
     "output_type": "stream",
     "text": [
      "Unique Category :  ['Poetry' 'Narrative Film' 'Music' 'Film & Video' 'Restaurants' 'Food'\n",
      " 'Drinks' 'Product Design' 'Documentary' 'Nonfiction' 'Indie Rock'\n",
      " 'Crafts' 'Games' 'Tabletop Games' 'Design' 'Comic Books' 'Art Books'\n",
      " 'Fashion' 'Childrenswear' 'Theater' 'Comics' 'DIY' 'Webseries'\n",
      " 'Animation' 'Food Trucks' 'Public Art' 'Illustration' 'Photography' 'Pop'\n",
      " 'People' 'Art' 'Family' 'Fiction' 'Accessories' 'Rock' 'Hardware'\n",
      " 'Software' 'Weaving' 'Gadgets' 'Web' 'Jazz' 'Ready-to-wear' 'Festivals'\n",
      " 'Video Games' 'Anthologies' 'Publishing' 'Shorts' 'Electronic Music'\n",
      " 'Radio & Podcasts' 'Apps' 'Cookbooks' 'Apparel' 'Metal' 'Comedy'\n",
      " 'Hip-Hop' 'Periodicals' 'Dance' 'Technology' 'Painting' 'World Music'\n",
      " 'Photobooks' 'Drama' 'Architecture' 'Young Adult' 'Latin' 'Mobile Games'\n",
      " 'Flight' 'Fine Art' 'Action' 'Playing Cards' 'Makerspaces' 'Punk'\n",
      " 'Thrillers' \"Children's Books\" 'Audio' 'Performance Art' 'Ceramics'\n",
      " 'Vegan' 'Graphic Novels' 'Fabrication Tools' 'Performances' 'Sculpture'\n",
      " 'Sound' 'Stationery' 'Print' \"Farmer's Markets\" 'Events'\n",
      " 'Classical Music' 'Graphic Design' 'Spaces' 'Country & Folk' 'Wearables'\n",
      " 'Mixed Media' 'Journalism' 'Movie Theaters' 'Animals' 'Digital Art'\n",
      " 'Horror' 'Knitting' 'Small Batch' 'Installations' 'Community Gardens'\n",
      " 'DIY Electronics' 'Embroidery' 'Camera Equipment' 'Jewelry' 'Farms'\n",
      " 'Conceptual Art' 'Fantasy' 'Webcomics' 'Experimental' 'Science Fiction'\n",
      " 'Puzzles' 'R&B' 'Music Videos' 'Calendars' 'Video' 'Plays' 'Blues'\n",
      " 'Bacon' 'Faith' 'Live Games' 'Woodworking' 'Places' 'Footwear'\n",
      " '3D Printing' 'Academic' 'Zines' 'Musical' 'Workshops' 'Photo'\n",
      " 'Immersive' 'Letterpress' 'Gaming Hardware' 'Candles' 'Television'\n",
      " 'Space Exploration' 'Couture' 'Nature' 'Robots' 'Typography' 'Crochet'\n",
      " 'Translations' 'Textiles' 'Pottery' 'Interactive Design' 'Video Art'\n",
      " 'Quilts' 'Glass' 'Pet Fashion' 'Printing' 'Romance' 'Civic Design' 'Kids'\n",
      " 'Literary Journals' 'Taxidermy' 'Literary Spaces' 'Chiptune'\n",
      " 'Residencies']\n",
      "Unique main_category :  ['Publishing' 'Film & Video' 'Music' 'Food' 'Design' 'Crafts' 'Games'\n",
      " 'Comics' 'Fashion' 'Theater' 'Art' 'Photography' 'Technology' 'Dance'\n",
      " 'Journalism']\n"
     ]
    }
   ],
   "source": [
    "#Menampilkan value pada bagian kolom Category & main_category\n",
    "print('Unique Category : ',df_new['category'].unique())\n",
    "print('Unique main_category : ',df_new['main_category'].unique())"
   ]
  },
  {
   "cell_type": "code",
   "execution_count": 16,
   "metadata": {},
   "outputs": [
    {
     "name": "stdout",
     "output_type": "stream",
     "text": [
      "Unique category :  159\n",
      "Unique main_category :  15\n"
     ]
    }
   ],
   "source": [
    "#Menampilkan jumlah total dari tiap kolom\n",
    "print('Unique category : ', df_new['category'].nunique())\n",
    "print('Unique main_category : ', df_new['main_category'].nunique())"
   ]
  },
  {
   "cell_type": "code",
   "execution_count": 17,
   "metadata": {},
   "outputs": [
    {
     "name": "stdout",
     "output_type": "stream",
     "text": [
      "Product Design     22314\n",
      "Documentary        16139\n",
      "Music              15727\n",
      "Tabletop Games     14180\n",
      "Shorts             12357\n",
      "                   ...  \n",
      "Residencies           69\n",
      "Letterpress           49\n",
      "Chiptune              35\n",
      "Literary Spaces       27\n",
      "Taxidermy             13\n",
      "Name: category, Length: 159, dtype: int64 \n",
      " Film & Video    63585\n",
      "Music           51918\n",
      "Publishing      39874\n",
      "Games           35231\n",
      "Technology      32569\n",
      "Design          30070\n",
      "Art             28153\n",
      "Food            24602\n",
      "Fashion         22816\n",
      "Theater         10913\n",
      "Comics          10819\n",
      "Photography     10779\n",
      "Crafts           8809\n",
      "Journalism       4755\n",
      "Dance            3768\n",
      "Name: main_category, dtype: int64\n"
     ]
    }
   ],
   "source": [
    "print(df_new['category'].value_counts(), '\\n' ,df_new['main_category'].value_counts())"
   ]
  },
  {
   "cell_type": "markdown",
   "metadata": {},
   "source": [
    "Dari hal diatas yang kita dapatkan bahwa jumlah dari kolom **category** adalah 159 kategori, dan 15 kategori utama pada **main_category**.\n",
    "Selanjutnya kita akan melakukan pengkategorian berdasarkan status dari setiap barang **state**.\n"
   ]
  },
  {
   "cell_type": "code",
   "execution_count": 18,
   "metadata": {},
   "outputs": [
    {
     "name": "stdout",
     "output_type": "stream",
     "text": [
      "Unique state :  ['failed' 'canceled' 'successful' 'live' 'undefined' 'suspended']\n"
     ]
    }
   ],
   "source": [
    "#menampilkan value dari kolom state\n",
    "print('Unique state : ', df_new['state'].unique())"
   ]
  },
  {
   "cell_type": "code",
   "execution_count": 19,
   "metadata": {},
   "outputs": [
    {
     "name": "stdout",
     "output_type": "stream",
     "text": [
      "Unique state :  6\n"
     ]
    }
   ],
   "source": [
    "#Menampilkan jumlah total dari kolom state\n",
    "print('Unique state : ', df_new['state'].nunique())"
   ]
  },
  {
   "cell_type": "markdown",
   "metadata": {},
   "source": [
    "Pada bagian kolom **state** terbagi menjadi 6 kelompok, yaitu : failed, canceled, successfull, live, undefined dan suspended."
   ]
  },
  {
   "cell_type": "code",
   "execution_count": 20,
   "metadata": {},
   "outputs": [
    {
     "name": "stdout",
     "output_type": "stream",
     "text": [
      "failed        197719\n",
      "successful    133956\n",
      "canceled       38779\n",
      "undefined       3562\n",
      "live            2799\n",
      "suspended       1846\n",
      "Name: state, dtype: int64\n"
     ]
    }
   ],
   "source": [
    "#Menampilkan jumlah value pada setiap jenis status dari state\n",
    "print(df_new['state'].value_counts())"
   ]
  },
  {
   "cell_type": "markdown",
   "metadata": {},
   "source": [
    "Dan dari hasil diatas selurus project funding terdapat 197716 project yang gagal, dan 133956 project yang berhasil."
   ]
  },
  {
   "cell_type": "code",
   "execution_count": null,
   "metadata": {},
   "outputs": [
    {
     "name": "stdout",
     "output_type": "stream",
     "text": [
      "count      378661.0\n",
      "mean         6995.7\n",
      "std         78374.5\n",
      "min             0.0\n",
      "25%            16.7\n",
      "50%           395.0\n",
      "75%          3046.0\n",
      "max      20338986.3\n",
      "Name: usd pledged, dtype: float64\n"
     ]
    }
   ],
   "source": [
    "#Menampilkan statistik dari kolom 'usb pledged'\n",
    "print(df_new['usd pledged'].describe().round(1))"
   ]
  },
  {
   "cell_type": "code",
   "execution_count": null,
   "metadata": {},
   "outputs": [
    {
     "name": "stdout",
     "output_type": "stream",
     "text": [
      "count       378661.0\n",
      "mean         45454.4\n",
      "std        1152950.1\n",
      "min              0.0\n",
      "25%           2000.0\n",
      "50%           5500.0\n",
      "75%          15500.0\n",
      "max      166361390.7\n",
      "Name: usd_goal_real, dtype: float64\n"
     ]
    }
   ],
   "source": [
    "#Menampilkan statistik dari kolom 'usd_goal_real'\n",
    "print(df_new['usd_goal_real'].describe().round(1))"
   ]
  },
  {
   "cell_type": "code",
   "execution_count": null,
   "metadata": {},
   "outputs": [
    {
     "data": {
      "text/html": [
       "<div>\n",
       "<style scoped>\n",
       "    .dataframe tbody tr th:only-of-type {\n",
       "        vertical-align: middle;\n",
       "    }\n",
       "\n",
       "    .dataframe tbody tr th {\n",
       "        vertical-align: top;\n",
       "    }\n",
       "\n",
       "    .dataframe thead th {\n",
       "        text-align: right;\n",
       "    }\n",
       "</style>\n",
       "<table border=\"1\" class=\"dataframe\">\n",
       "  <thead>\n",
       "    <tr style=\"text-align: right;\">\n",
       "      <th></th>\n",
       "      <th>ID</th>\n",
       "      <th>name</th>\n",
       "      <th>category</th>\n",
       "      <th>main_category</th>\n",
       "      <th>currency</th>\n",
       "      <th>deadline</th>\n",
       "      <th>goal</th>\n",
       "      <th>launched</th>\n",
       "      <th>pledged</th>\n",
       "      <th>state</th>\n",
       "      <th>backers</th>\n",
       "      <th>country</th>\n",
       "      <th>usd pledged</th>\n",
       "      <th>usd_pledged_real</th>\n",
       "      <th>usd_goal_real</th>\n",
       "    </tr>\n",
       "  </thead>\n",
       "  <tbody>\n",
       "    <tr>\n",
       "      <th>355330</th>\n",
       "      <td>880009511</td>\n",
       "      <td>Elite: Dangerous</td>\n",
       "      <td>Video Games</td>\n",
       "      <td>Games</td>\n",
       "      <td>GBP</td>\n",
       "      <td>2013-01-05</td>\n",
       "      <td>1250000.0</td>\n",
       "      <td>2012-11-06 01:00:57</td>\n",
       "      <td>1578316.08</td>\n",
       "      <td>successful</td>\n",
       "      <td>25681</td>\n",
       "      <td>GB</td>\n",
       "      <td>2529437.82</td>\n",
       "      <td>2545014.32</td>\n",
       "      <td>2015608.88</td>\n",
       "    </tr>\n",
       "    <tr>\n",
       "      <th>89481</th>\n",
       "      <td>1454565733</td>\n",
       "      <td>Bring Back MYSTERY SCIENCE THEATER 3000</td>\n",
       "      <td>Television</td>\n",
       "      <td>Film &amp; Video</td>\n",
       "      <td>USD</td>\n",
       "      <td>2015-12-12</td>\n",
       "      <td>2000000.0</td>\n",
       "      <td>2015-11-10 16:49:32</td>\n",
       "      <td>5764229.38</td>\n",
       "      <td>successful</td>\n",
       "      <td>48270</td>\n",
       "      <td>US</td>\n",
       "      <td>5764229.38</td>\n",
       "      <td>5764229.38</td>\n",
       "      <td>2000000.00</td>\n",
       "    </tr>\n",
       "    <tr>\n",
       "      <th>134462</th>\n",
       "      <td>1682353635</td>\n",
       "      <td>Camelot Unchained</td>\n",
       "      <td>Video Games</td>\n",
       "      <td>Games</td>\n",
       "      <td>USD</td>\n",
       "      <td>2013-05-02</td>\n",
       "      <td>2000000.0</td>\n",
       "      <td>2013-04-02 17:56:11</td>\n",
       "      <td>2232933.03</td>\n",
       "      <td>successful</td>\n",
       "      <td>14873</td>\n",
       "      <td>US</td>\n",
       "      <td>2232933.03</td>\n",
       "      <td>2232933.03</td>\n",
       "      <td>2000000.00</td>\n",
       "    </tr>\n",
       "    <tr>\n",
       "      <th>148585</th>\n",
       "      <td>1755266685</td>\n",
       "      <td>The Veronica Mars Movie Project</td>\n",
       "      <td>Narrative Film</td>\n",
       "      <td>Film &amp; Video</td>\n",
       "      <td>USD</td>\n",
       "      <td>2013-04-13</td>\n",
       "      <td>2000000.0</td>\n",
       "      <td>2013-03-13 15:42:22</td>\n",
       "      <td>5702153.38</td>\n",
       "      <td>successful</td>\n",
       "      <td>91585</td>\n",
       "      <td>US</td>\n",
       "      <td>5702153.38</td>\n",
       "      <td>5702153.38</td>\n",
       "      <td>2000000.00</td>\n",
       "    </tr>\n",
       "    <tr>\n",
       "      <th>171322</th>\n",
       "      <td>1871494789</td>\n",
       "      <td>WISH I WAS HERE</td>\n",
       "      <td>Narrative Film</td>\n",
       "      <td>Film &amp; Video</td>\n",
       "      <td>USD</td>\n",
       "      <td>2013-05-24</td>\n",
       "      <td>2000000.0</td>\n",
       "      <td>2013-04-24 11:57:04</td>\n",
       "      <td>3105473.10</td>\n",
       "      <td>successful</td>\n",
       "      <td>46520</td>\n",
       "      <td>US</td>\n",
       "      <td>3105473.10</td>\n",
       "      <td>3105473.10</td>\n",
       "      <td>2000000.00</td>\n",
       "    </tr>\n",
       "    <tr>\n",
       "      <th>368573</th>\n",
       "      <td>947809001</td>\n",
       "      <td>Shenmue 3</td>\n",
       "      <td>Video Games</td>\n",
       "      <td>Games</td>\n",
       "      <td>USD</td>\n",
       "      <td>2015-07-18</td>\n",
       "      <td>2000000.0</td>\n",
       "      <td>2015-06-16 03:51:04</td>\n",
       "      <td>6333295.77</td>\n",
       "      <td>successful</td>\n",
       "      <td>69320</td>\n",
       "      <td>US</td>\n",
       "      <td>6333295.77</td>\n",
       "      <td>6333295.77</td>\n",
       "      <td>2000000.00</td>\n",
       "    </tr>\n",
       "    <tr>\n",
       "      <th>324291</th>\n",
       "      <td>721748605</td>\n",
       "      <td>Blue Mountain State: The Movie</td>\n",
       "      <td>Narrative Film</td>\n",
       "      <td>Film &amp; Video</td>\n",
       "      <td>USD</td>\n",
       "      <td>2014-05-15</td>\n",
       "      <td>1500000.0</td>\n",
       "      <td>2014-04-15 14:43:13</td>\n",
       "      <td>1911827.41</td>\n",
       "      <td>successful</td>\n",
       "      <td>23999</td>\n",
       "      <td>US</td>\n",
       "      <td>1911827.41</td>\n",
       "      <td>1911827.41</td>\n",
       "      <td>1500000.00</td>\n",
       "    </tr>\n",
       "    <tr>\n",
       "      <th>111636</th>\n",
       "      <td>1567218706</td>\n",
       "      <td>The Newest Hottest Spike Lee Joint</td>\n",
       "      <td>Narrative Film</td>\n",
       "      <td>Film &amp; Video</td>\n",
       "      <td>USD</td>\n",
       "      <td>2013-08-21</td>\n",
       "      <td>1250000.0</td>\n",
       "      <td>2013-07-22 18:15:41</td>\n",
       "      <td>1418910.22</td>\n",
       "      <td>successful</td>\n",
       "      <td>6421</td>\n",
       "      <td>US</td>\n",
       "      <td>1418910.22</td>\n",
       "      <td>1418910.22</td>\n",
       "      <td>1250000.00</td>\n",
       "    </tr>\n",
       "    <tr>\n",
       "      <th>337372</th>\n",
       "      <td>788486889</td>\n",
       "      <td>The Bards Tale IV</td>\n",
       "      <td>Video Games</td>\n",
       "      <td>Games</td>\n",
       "      <td>USD</td>\n",
       "      <td>2015-07-11</td>\n",
       "      <td>1250000.0</td>\n",
       "      <td>2015-06-02 14:57:26</td>\n",
       "      <td>1519680.86</td>\n",
       "      <td>successful</td>\n",
       "      <td>33741</td>\n",
       "      <td>US</td>\n",
       "      <td>1519680.86</td>\n",
       "      <td>1519680.86</td>\n",
       "      <td>1250000.00</td>\n",
       "    </tr>\n",
       "    <tr>\n",
       "      <th>141638</th>\n",
       "      <td>1719494931</td>\n",
       "      <td>Obduction</td>\n",
       "      <td>Video Games</td>\n",
       "      <td>Games</td>\n",
       "      <td>USD</td>\n",
       "      <td>2013-11-16</td>\n",
       "      <td>1100000.0</td>\n",
       "      <td>2013-10-17 15:06:31</td>\n",
       "      <td>1321306.44</td>\n",
       "      <td>successful</td>\n",
       "      <td>22195</td>\n",
       "      <td>US</td>\n",
       "      <td>1321306.44</td>\n",
       "      <td>1321306.44</td>\n",
       "      <td>1100000.00</td>\n",
       "    </tr>\n",
       "  </tbody>\n",
       "</table>\n",
       "</div>"
      ],
      "text/plain": [
       "                ID                                     name        category  \\\n",
       "355330   880009511                         Elite: Dangerous     Video Games   \n",
       "89481   1454565733  Bring Back MYSTERY SCIENCE THEATER 3000      Television   \n",
       "134462  1682353635                        Camelot Unchained     Video Games   \n",
       "148585  1755266685          The Veronica Mars Movie Project  Narrative Film   \n",
       "171322  1871494789                          WISH I WAS HERE  Narrative Film   \n",
       "368573   947809001                                Shenmue 3     Video Games   \n",
       "324291   721748605           Blue Mountain State: The Movie  Narrative Film   \n",
       "111636  1567218706       The Newest Hottest Spike Lee Joint  Narrative Film   \n",
       "337372   788486889                        The Bards Tale IV     Video Games   \n",
       "141638  1719494931                                Obduction     Video Games   \n",
       "\n",
       "       main_category currency    deadline       goal             launched  \\\n",
       "355330         Games      GBP  2013-01-05  1250000.0  2012-11-06 01:00:57   \n",
       "89481   Film & Video      USD  2015-12-12  2000000.0  2015-11-10 16:49:32   \n",
       "134462         Games      USD  2013-05-02  2000000.0  2013-04-02 17:56:11   \n",
       "148585  Film & Video      USD  2013-04-13  2000000.0  2013-03-13 15:42:22   \n",
       "171322  Film & Video      USD  2013-05-24  2000000.0  2013-04-24 11:57:04   \n",
       "368573         Games      USD  2015-07-18  2000000.0  2015-06-16 03:51:04   \n",
       "324291  Film & Video      USD  2014-05-15  1500000.0  2014-04-15 14:43:13   \n",
       "111636  Film & Video      USD  2013-08-21  1250000.0  2013-07-22 18:15:41   \n",
       "337372         Games      USD  2015-07-11  1250000.0  2015-06-02 14:57:26   \n",
       "141638         Games      USD  2013-11-16  1100000.0  2013-10-17 15:06:31   \n",
       "\n",
       "           pledged       state  backers country  usd pledged  \\\n",
       "355330  1578316.08  successful    25681      GB   2529437.82   \n",
       "89481   5764229.38  successful    48270      US   5764229.38   \n",
       "134462  2232933.03  successful    14873      US   2232933.03   \n",
       "148585  5702153.38  successful    91585      US   5702153.38   \n",
       "171322  3105473.10  successful    46520      US   3105473.10   \n",
       "368573  6333295.77  successful    69320      US   6333295.77   \n",
       "324291  1911827.41  successful    23999      US   1911827.41   \n",
       "111636  1418910.22  successful     6421      US   1418910.22   \n",
       "337372  1519680.86  successful    33741      US   1519680.86   \n",
       "141638  1321306.44  successful    22195      US   1321306.44   \n",
       "\n",
       "        usd_pledged_real  usd_goal_real  \n",
       "355330        2545014.32     2015608.88  \n",
       "89481         5764229.38     2000000.00  \n",
       "134462        2232933.03     2000000.00  \n",
       "148585        5702153.38     2000000.00  \n",
       "171322        3105473.10     2000000.00  \n",
       "368573        6333295.77     2000000.00  \n",
       "324291        1911827.41     1500000.00  \n",
       "111636        1418910.22     1250000.00  \n",
       "337372        1519680.86     1250000.00  \n",
       "141638        1321306.44     1100000.00  "
      ]
     },
     "execution_count": 23,
     "metadata": {},
     "output_type": "execute_result"
    }
   ],
   "source": [
    "#Menampilkan project mana yang memiliki target funding diatas $1.000.000\n",
    "df_new.query(\"usd_pledged_real > 1000000 & \\\n",
    "         usd_goal_real > 1000000\").sort_values(by = 'usd_goal_real' , ascending = False).head(10)"
   ]
  },
  {
   "cell_type": "markdown",
   "metadata": {},
   "source": [
    "Selanjutnya akan dilakukan pengelompokan grouping dari kolom category dengan main-category."
   ]
  },
  {
   "cell_type": "code",
   "execution_count": null,
   "metadata": {},
   "outputs": [
    {
     "name": "stdout",
     "output_type": "stream",
     "text": [
      "category         main_category\n",
      "Product Design   Design           22314\n",
      "Documentary      Film & Video     16139\n",
      "Music            Music            15727\n",
      "Tabletop Games   Games            14180\n",
      "Shorts           Film & Video     12357\n",
      "                                  ...  \n",
      "Chiptune         Music               35\n",
      "Literary Spaces  Publishing          27\n",
      "Comedy           Music               19\n",
      "Taxidermy        Crafts              13\n",
      "Letterpress      Publishing          11\n",
      "Length: 170, dtype: int64\n"
     ]
    }
   ],
   "source": [
    "#Menampilkan jumlah category dari setiap kombinasi category dengan main_category\n",
    "print(df_new.groupby(['category' , 'main_category']).size()\n",
    "     .sort_values(ascending=False))"
   ]
  },
  {
   "cell_type": "code",
   "execution_count": null,
   "metadata": {},
   "outputs": [
    {
     "data": {
      "text/html": [
       "<div>\n",
       "<style scoped>\n",
       "    .dataframe tbody tr th:only-of-type {\n",
       "        vertical-align: middle;\n",
       "    }\n",
       "\n",
       "    .dataframe tbody tr th {\n",
       "        vertical-align: top;\n",
       "    }\n",
       "\n",
       "    .dataframe thead th {\n",
       "        text-align: right;\n",
       "    }\n",
       "</style>\n",
       "<table border=\"1\" class=\"dataframe\">\n",
       "  <thead>\n",
       "    <tr style=\"text-align: right;\">\n",
       "      <th></th>\n",
       "      <th>backers</th>\n",
       "    </tr>\n",
       "    <tr>\n",
       "      <th>country</th>\n",
       "      <th></th>\n",
       "    </tr>\n",
       "  </thead>\n",
       "  <tbody>\n",
       "    <tr>\n",
       "      <th>US</th>\n",
       "      <td>33089856</td>\n",
       "    </tr>\n",
       "    <tr>\n",
       "      <th>GB</th>\n",
       "      <td>2859587</td>\n",
       "    </tr>\n",
       "    <tr>\n",
       "      <th>CA</th>\n",
       "      <td>1302563</td>\n",
       "    </tr>\n",
       "    <tr>\n",
       "      <th>AU</th>\n",
       "      <td>642816</td>\n",
       "    </tr>\n",
       "    <tr>\n",
       "      <th>DE</th>\n",
       "      <td>410147</td>\n",
       "    </tr>\n",
       "    <tr>\n",
       "      <th>FR</th>\n",
       "      <td>350214</td>\n",
       "    </tr>\n",
       "    <tr>\n",
       "      <th>NL</th>\n",
       "      <td>228251</td>\n",
       "    </tr>\n",
       "    <tr>\n",
       "      <th>SE</th>\n",
       "      <td>169344</td>\n",
       "    </tr>\n",
       "    <tr>\n",
       "      <th>ES</th>\n",
       "      <td>164227</td>\n",
       "    </tr>\n",
       "    <tr>\n",
       "      <th>IT</th>\n",
       "      <td>155339</td>\n",
       "    </tr>\n",
       "  </tbody>\n",
       "</table>\n",
       "</div>"
      ],
      "text/plain": [
       "          backers\n",
       "country          \n",
       "US       33089856\n",
       "GB        2859587\n",
       "CA        1302563\n",
       "AU         642816\n",
       "DE         410147\n",
       "FR         350214\n",
       "NL         228251\n",
       "SE         169344\n",
       "ES         164227\n",
       "IT         155339"
      ]
     },
     "execution_count": 45,
     "metadata": {},
     "output_type": "execute_result"
    }
   ],
   "source": [
    "#Melakukan grouping pada pendana project dari setiap negara asal\n",
    "df_new.groupby(['country'])[['backers']].sum().sort_values(by='backers', ascending=False).head(10)"
   ]
  },
  {
   "cell_type": "markdown",
   "metadata": {},
   "source": [
    "Dari hasil diatas bisa kita ketahui bahwa negara US merupakan negara yang memiliki pendana terbanyak dengan 330.089.856 pendana serta GB dengan urutan kedua dengan 2.859.587 pendana."
   ]
  },
  {
   "cell_type": "code",
   "execution_count": null,
   "metadata": {},
   "outputs": [
    {
     "data": {
      "text/plain": [
       "<AxesSubplot:xlabel='state', ylabel='usd_pledged_real'>"
      ]
     },
     "execution_count": 98,
     "metadata": {},
     "output_type": "execute_result"
    },
    {
     "data": {
      "image/png": "[encoded data removed]",
      "text/plain": [
       "<Figure size 432x288 with 1 Axes>"
      ]
     },
     "metadata": {
      "needs_background": "light"
     },
     "output_type": "display_data"
    }
   ],
   "source": [
    "status_freq_multi = df_new[(df_new['country'] == 'US')|(df_new['country'] == 'GB')].groupby(['state','country']).count()['usd_pledged_real'].sort_values(ascending=False).reset_index()\n",
    "sns.barplot(x=status_freq_multi['state'],y=status_freq_multi['usd_pledged_real'],orient='v',hue=status_freq_multi['country'])"
   ]
  },
  {
   "cell_type": "markdown",
   "metadata": {},
   "source": [
    "Dari hasil grafik diatas dapat kita lihat bahwa funding terbesar yang didapatkan diantara 2 negara adalah 'US', walaupun dengan tingakatan 'failed' lebih besar daripada 'successful'.\n",
    "\n",
    "Dari hal ini kita akan meneliti lebih lanjut perihal analis dari 'country' 'US'."
   ]
  },
  {
   "cell_type": "code",
   "execution_count": null,
   "metadata": {},
   "outputs": [
    {
     "data": {
      "text/html": [
       "<div>\n",
       "<style scoped>\n",
       "    .dataframe tbody tr th:only-of-type {\n",
       "        vertical-align: middle;\n",
       "    }\n",
       "\n",
       "    .dataframe tbody tr th {\n",
       "        vertical-align: top;\n",
       "    }\n",
       "\n",
       "    .dataframe thead th {\n",
       "        text-align: right;\n",
       "    }\n",
       "</style>\n",
       "<table border=\"1\" class=\"dataframe\">\n",
       "  <thead>\n",
       "    <tr style=\"text-align: right;\">\n",
       "      <th></th>\n",
       "      <th>ID</th>\n",
       "      <th>name</th>\n",
       "      <th>main_category</th>\n",
       "      <th>usd_goal_real</th>\n",
       "      <th>usd_pledged_real</th>\n",
       "      <th>backers</th>\n",
       "      <th>state</th>\n",
       "    </tr>\n",
       "  </thead>\n",
       "  <tbody>\n",
       "    <tr>\n",
       "      <th>219428</th>\n",
       "      <td>21177179</td>\n",
       "      <td>Gridlock: A New Sci-Fi Novel</td>\n",
       "      <td>Publishing</td>\n",
       "      <td>3850.0</td>\n",
       "      <td>11.0</td>\n",
       "      <td>2</td>\n",
       "      <td>failed</td>\n",
       "    </tr>\n",
       "    <tr>\n",
       "      <th>230584</th>\n",
       "      <td>242191904</td>\n",
       "      <td>The Mountain Revolution</td>\n",
       "      <td>Music</td>\n",
       "      <td>10000.0</td>\n",
       "      <td>60.0</td>\n",
       "      <td>4</td>\n",
       "      <td>failed</td>\n",
       "    </tr>\n",
       "    <tr>\n",
       "      <th>84554</th>\n",
       "      <td>1429977985</td>\n",
       "      <td>Track &amp; Bliss- Fitness and Fashion for everyda...</td>\n",
       "      <td>Fashion</td>\n",
       "      <td>20000.0</td>\n",
       "      <td>20160.0</td>\n",
       "      <td>86</td>\n",
       "      <td>successful</td>\n",
       "    </tr>\n",
       "    <tr>\n",
       "      <th>110201</th>\n",
       "      <td>155995402</td>\n",
       "      <td>Habitué</td>\n",
       "      <td>Fashion</td>\n",
       "      <td>4000.0</td>\n",
       "      <td>25.0</td>\n",
       "      <td>1</td>\n",
       "      <td>failed</td>\n",
       "    </tr>\n",
       "    <tr>\n",
       "      <th>78625</th>\n",
       "      <td>1400131281</td>\n",
       "      <td>\"One Way - Mag\" (Gay Digital Mag) - Going to P...</td>\n",
       "      <td>Publishing</td>\n",
       "      <td>5600.0</td>\n",
       "      <td>100.0</td>\n",
       "      <td>1</td>\n",
       "      <td>failed</td>\n",
       "    </tr>\n",
       "  </tbody>\n",
       "</table>\n",
       "</div>"
      ],
      "text/plain": [
       "                ID                                               name  \\\n",
       "219428    21177179                       Gridlock: A New Sci-Fi Novel   \n",
       "230584   242191904                            The Mountain Revolution   \n",
       "84554   1429977985  Track & Bliss- Fitness and Fashion for everyda...   \n",
       "110201   155995402                                            Habitué   \n",
       "78625   1400131281  \"One Way - Mag\" (Gay Digital Mag) - Going to P...   \n",
       "\n",
       "       main_category  usd_goal_real  usd_pledged_real  backers       state  \n",
       "219428    Publishing         3850.0              11.0        2      failed  \n",
       "230584         Music        10000.0              60.0        4      failed  \n",
       "84554        Fashion        20000.0           20160.0       86  successful  \n",
       "110201       Fashion         4000.0              25.0        1      failed  \n",
       "78625     Publishing         5600.0             100.0        1      failed  "
      ]
     },
     "execution_count": 49,
     "metadata": {},
     "output_type": "execute_result"
    }
   ],
   "source": [
    "#Variable baru dari data US\n",
    "df_US = df_new.loc[\n",
    "    (df_new['country']=='US')\n",
    "][['ID','name','main_category','usd_goal_real','usd_pledged_real','backers','state']]\n",
    "\n",
    "df_US.sample(5)"
   ]
  },
  {
   "cell_type": "markdown",
   "metadata": {},
   "source": [
    "Dari dataset **df_US** yang sudah dibuat, kita akan membandingkan jumlah pada setiap **main_category** dengan banyak project yang ada."
   ]
  },
  {
   "cell_type": "code",
   "execution_count": null,
   "metadata": {},
   "outputs": [
    {
     "data": {
      "image/png": "[encoded data removed]",
      "text/plain": [
       "<Figure size 1440x1080 with 1 Axes>"
      ]
     },
     "metadata": {
      "needs_background": "light"
     },
     "output_type": "display_data"
    }
   ],
   "source": [
    "#Visualisasi jumlah dari kolom 'main_category'\n",
    "\n",
    "fig = plt.figure(figsize=(20, 15))\n",
    "barWidth= 0.5\n",
    "class_category = df_US['main_category'].value_counts().to_dict()\n",
    "x = class_category.keys()\n",
    "y = class_category.values()\n",
    "plot1 = plt.bar(x, y, width=barWidth)\n",
    "plt.title('Class Main Category',  fontsize = '20')\n",
    "plt.xlabel('Main Category', fontsize = '20')\n",
    "plt.ylabel('Count', fontsize = '20')\n",
    "\n",
    "for bar in plot1:\n",
    "    plt.annotate(bar.get_height(),xy=(bar.get_x(), bar.get_height()+200,), fontsize=10)"
   ]
  },
  {
   "cell_type": "markdown",
   "metadata": {},
   "source": [
    "Dari data diatas dapat dilihat bawah category project yang paling banyak adalah **Film & Video**"
   ]
  },
  {
   "cell_type": "code",
   "execution_count": null,
   "metadata": {},
   "outputs": [
    {
     "data": {
      "image/png": "[encoded data removed]",
      "text/plain": [
       "<Figure size 1080x720 with 1 Axes>"
      ]
     },
     "metadata": {
      "needs_background": "light"
     },
     "output_type": "display_data"
    }
   ],
   "source": [
    "#Visualisasi status project pada negara US\n",
    "fig = plt.figure(figsize=(15, 10))\n",
    "barWidth= 0.5\n",
    "class_state = df_US['state'].value_counts().to_dict()\n",
    "x = class_state.keys()\n",
    "y = class_state.values()\n",
    "plot2 = plt.bar(x, y, width=barWidth)\n",
    "plt.title('State', fontsize = '20')\n",
    "plt.xlabel('Class State', fontsize = '20')\n",
    "plt.ylabel('Count', fontsize = '20')\n",
    "for bar in plot2:\n",
    "    plt.annotate(bar.get_height(),xy=(bar.get_x() + 0.15, bar.get_height()+2000,), fontsize=10)"
   ]
  },
  {
   "cell_type": "markdown",
   "metadata": {},
   "source": [
    "Dari hasil diatas dapat diketahui jumlah project yang gagal di negara US lebih banyak dari tingkat keberhasilnnya."
   ]
  },
  {
   "cell_type": "markdown",
   "metadata": {},
   "source": [
    "## V. Measure of Central Tendency\n",
    "\n",
    "*Measure of Central Tendency* adalah untuk mendapatkan nilai titik tengah pada data atau nilai khas dari kumpulan data.\n",
    "Ada tiga ukuran utama tendensi sentral:\n",
    "\n",
    "- **Mean** : jumlah nilai dalam kumpulan data dibagi dengan jumlah keseluruhan\n",
    "- **Mode** : nilai yang sering muncul pada suatu Distribusi\n",
    "- **Median** : nilai tengah dalam distribusi\n"
   ]
  },
  {
   "cell_type": "code",
   "execution_count": null,
   "metadata": {},
   "outputs": [
    {
     "name": "stdout",
     "output_type": "stream",
     "text": [
      "usd_pledged_real\n",
      "\n",
      "Min: 0.0\n",
      "Mode: 0.0\n",
      "Median: 725.0\n",
      "Mean: 9670.19304951369\n",
      "Max: 20338986.27\n"
     ]
    }
   ],
   "source": [
    "#Mencari central tendency dari 'usd_pledge_real' dari country 'US'\n",
    "\n",
    "print('usd_pledged_real')\n",
    "print()\n",
    "print ('Min: ' + str(df_US['usd_pledged_real'].min()))\n",
    "print ('Mode: ' + str(df_US['usd_pledged_real'].mode()[0]))\n",
    "print ('Median: ' + str(df_US['usd_pledged_real'].median()))\n",
    "print ('Mean: ' + str(df_US['usd_pledged_real'].mean()))\n",
    "print ('Max: ' + str(df_US['usd_pledged_real'].max()))"
   ]
  },
  {
   "cell_type": "markdown",
   "metadata": {},
   "source": [
    "Dari hasil diatas dapat dilihat nilai mean > dari median dan menunjukkan *positif skew distribution* ,*right skewed*, dan dari nilai min dan max memiliki jarak yang besar maka mengindikasikan tidak normal distribusi."
   ]
  },
  {
   "cell_type": "code",
   "execution_count": null,
   "metadata": {},
   "outputs": [
    {
     "name": "stdout",
     "output_type": "stream",
     "text": [
      "usd_goal_real\n",
      "\n",
      "Min: 0.01\n",
      "Mode: 5000.0\n",
      "Median: 5250.0\n",
      "Mean: 44034.969705358664\n",
      "Max: 100000000.0\n"
     ]
    }
   ],
   "source": [
    "#Mencari central tendency dari 'usd_goal_real' dari country 'US' \n",
    "\n",
    "print('usd_goal_real')\n",
    "print()\n",
    "print ('Min: ' + str(df_US['usd_goal_real'].min()))\n",
    "print ('Mode: ' + str(df_US['usd_goal_real'].mode()[0]))\n",
    "print ('Median: ' + str(df_US['usd_goal_real'].median()))\n",
    "print ('Mean: ' + str(df_US['usd_goal_real'].mean()))\n",
    "print ('Max: ' + str(df_US['usd_goal_real'].max()))\n"
   ]
  },
  {
   "cell_type": "markdown",
   "metadata": {},
   "source": [
    "Dari hasil diatas dapat dilihat **usd_goal_real** memiliki nilai *mean* yang lebih besar dikarenakan besaran dari data set. menjadikan *positive skew distribution* dan menunjukkan *right skewed*, dan dari nilai min dan max memiliki jarak yang besar maka mengindikasikan tidak normal distribusi."
   ]
  },
  {
   "cell_type": "markdown",
   "metadata": {},
   "source": [
    "## VI. Measure of Variance\n",
    "\n",
    "Pengukuran variasi statistik dari kumpulan data, dan terdapat 4 pengukuran variabilitas yang digunakan :\n",
    "- Range : perbedaan jarak nilai terendah adn tertinggi\n",
    "- Variance : perbedaan kuadrat rata-rata dari nilai-nilai dari mean\n",
    "- Standar deviasi : berguna untuk mendapatkan nilai rentang data \n",
    "- Interquartile Range : kisaran tengah distribusi"
   ]
  },
  {
   "cell_type": "code",
   "execution_count": null,
   "metadata": {},
   "outputs": [
    {
     "name": "stdout",
     "output_type": "stream",
     "text": [
      "usd_pledged_real\n",
      "\n",
      "Range :  20338986.27\n",
      "1st Quartile :  41.0\n",
      "3rd Quartile :  4370.0\n",
      "Variance :  9866334012.454746\n",
      "Std. Deviation: 99329.421685897\n"
     ]
    }
   ],
   "source": [
    "#Mencari pengukuran variasi dari 'usd_pledged_real' dari country 'US' \n",
    "\n",
    "print('usd_pledged_real')\n",
    "print()\n",
    "print('Range : ', str(df_US['usd_pledged_real'].max() - df_US['usd_pledged_real'].min()))\n",
    "print('1st Quartile : ', str(df_US['usd_pledged_real'].quantile(0.25)))\n",
    "print('3rd Quartile : ', str(df_US['usd_pledged_real'].quantile(0.75)))\n",
    "print('Variance : ', str(df_US['usd_pledged_real'].var()))\n",
    "print ('Std. Deviation: ' + str(df_US['usd_pledged_real'].std()))\n"
   ]
  },
  {
   "cell_type": "code",
   "execution_count": null,
   "metadata": {},
   "outputs": [
    {
     "name": "stdout",
     "output_type": "stream",
     "text": [
      "usd_goal_real\n",
      "\n",
      "Range :  99999999.99\n",
      "1st Quartile :  2000.0\n",
      "3rd Quartile :  15000.0\n",
      "Variance :  1228488436994.8774\n",
      "Std. Deviation: 1108371.9759155216\n"
     ]
    }
   ],
   "source": [
    "#Mencari pengukuran variasi dari 'usd_goal_real' dari country 'US' \n",
    "\n",
    "print('usd_goal_real')\n",
    "print()\n",
    "print('Range : ', str(df_US['usd_goal_real'].max() - df_US['usd_goal_real'].min()))\n",
    "print('1st Quartile : ', str(df_US['usd_goal_real'].quantile(0.25)))\n",
    "print('3rd Quartile : ', str(df_US['usd_goal_real'].quantile(0.75)))\n",
    "print('Variance : ', str(df_US['usd_goal_real'].var()))\n",
    "print ('Std. Deviation: ' + str(df_US['usd_goal_real'].std()))"
   ]
  },
  {
   "cell_type": "markdown",
   "metadata": {},
   "source": [
    "## VII. Hypothesis Testing\n",
    "\n",
    "Dalam hal pengujian yang akan kami lakukan akan melibatkan dari bagian **usd_pledged_real** dan **usd_goal_real** untuk mengetahui statistik **main_category**  dengan **state** ."
   ]
  },
  {
   "cell_type": "code",
   "execution_count": null,
   "metadata": {},
   "outputs": [
    {
     "name": "stderr",
     "output_type": "stream",
     "text": [
      "c:\\Users\\TheSevenS\\anaconda3\\lib\\site-packages\\pandas\\core\\arraylike.py:364: RuntimeWarning: divide by zero encountered in log\n",
      "  result = getattr(ufunc, method)(*inputs, **kwargs)\n"
     ]
    }
   ],
   "source": [
    "#Membuat log variabel dari 'usd_pledged_real'\n",
    "log_pledged = np.log(df_US['usd_pledged_real'])\n",
    "log_goal = np.log(df_US['usd_goal_real'])\n"
   ]
  },
  {
   "cell_type": "code",
   "execution_count": null,
   "metadata": {},
   "outputs": [
    {
     "data": {
      "image/png": "[encoded data removed]",
      "text/plain": [
       "<Figure size 1080x720 with 2 Axes>"
      ]
     },
     "metadata": {
      "needs_background": "light"
     },
     "output_type": "display_data"
    }
   ],
   "source": [
    "#Plotting distribusi pada graphic dari 'usd_pledged_real' & 'usd_goal_real'\n",
    "fig, ax = plt.subplots(ncols=2,figsize=(15, 10))\n",
    "\n",
    "sns.histplot(log_pledged, kde=True, ax=ax[0])\n",
    "ax[0].axvline(log_pledged.mean(), linestyle='dashed', label='mean', color='green')\n",
    "ax[0].axvline(log_pledged.median(), linestyle='dashed', label='median', color='red')\n",
    "\n",
    "sns.histplot(log_goal, kde=True, ax=ax[1])\n",
    "ax[1].axvline(log_goal.mean(), linestyle='dashed', label='mean', color='green')\n",
    "ax[1].axvline(log_goal.median(), linestyle='dashed', label='median', color='red')\n",
    "\n",
    "plt.legend()\n",
    "plt.show()"
   ]
  },
  {
   "cell_type": "markdown",
   "metadata": {},
   "source": [
    "Dari hasil grafik diatas yang kita dapatkan dapat diasumsikan bahwa log **usd_goal_real** memiliki distribusi normal."
   ]
  },
  {
   "cell_type": "code",
   "execution_count": null,
   "metadata": {},
   "outputs": [
    {
     "data": {
      "text/html": [
       "<div>\n",
       "<style scoped>\n",
       "    .dataframe tbody tr th:only-of-type {\n",
       "        vertical-align: middle;\n",
       "    }\n",
       "\n",
       "    .dataframe tbody tr th {\n",
       "        vertical-align: top;\n",
       "    }\n",
       "\n",
       "    .dataframe thead th {\n",
       "        text-align: right;\n",
       "    }\n",
       "</style>\n",
       "<table border=\"1\" class=\"dataframe\">\n",
       "  <thead>\n",
       "    <tr style=\"text-align: right;\">\n",
       "      <th></th>\n",
       "      <th>ID</th>\n",
       "      <th>name</th>\n",
       "      <th>main_category</th>\n",
       "      <th>usd_goal_real</th>\n",
       "      <th>usd_goal_log</th>\n",
       "      <th>state</th>\n",
       "    </tr>\n",
       "  </thead>\n",
       "  <tbody>\n",
       "    <tr>\n",
       "      <th>1</th>\n",
       "      <td>1000003930</td>\n",
       "      <td>Greeting From Earth: ZGAC Arts Capsule For ET</td>\n",
       "      <td>Film &amp; Video</td>\n",
       "      <td>30000.0</td>\n",
       "      <td>10.308953</td>\n",
       "      <td>failed</td>\n",
       "    </tr>\n",
       "    <tr>\n",
       "      <th>2</th>\n",
       "      <td>1000004038</td>\n",
       "      <td>Where is Hank?</td>\n",
       "      <td>Film &amp; Video</td>\n",
       "      <td>45000.0</td>\n",
       "      <td>10.714418</td>\n",
       "      <td>failed</td>\n",
       "    </tr>\n",
       "    <tr>\n",
       "      <th>3</th>\n",
       "      <td>1000007540</td>\n",
       "      <td>ToshiCapital Rekordz Needs Help to Complete Album</td>\n",
       "      <td>Music</td>\n",
       "      <td>5000.0</td>\n",
       "      <td>8.517193</td>\n",
       "      <td>failed</td>\n",
       "    </tr>\n",
       "    <tr>\n",
       "      <th>4</th>\n",
       "      <td>1000011046</td>\n",
       "      <td>Community Film Project: The Art of Neighborhoo...</td>\n",
       "      <td>Film &amp; Video</td>\n",
       "      <td>19500.0</td>\n",
       "      <td>9.878170</td>\n",
       "      <td>canceled</td>\n",
       "    </tr>\n",
       "    <tr>\n",
       "      <th>5</th>\n",
       "      <td>1000014025</td>\n",
       "      <td>Monarch Espresso Bar</td>\n",
       "      <td>Food</td>\n",
       "      <td>50000.0</td>\n",
       "      <td>10.819778</td>\n",
       "      <td>successful</td>\n",
       "    </tr>\n",
       "    <tr>\n",
       "      <th>6</th>\n",
       "      <td>1000023410</td>\n",
       "      <td>Support Solar Roasted Coffee &amp; Green Energy!  ...</td>\n",
       "      <td>Food</td>\n",
       "      <td>1000.0</td>\n",
       "      <td>6.907755</td>\n",
       "      <td>successful</td>\n",
       "    </tr>\n",
       "    <tr>\n",
       "      <th>7</th>\n",
       "      <td>1000030581</td>\n",
       "      <td>Chaser Strips. Our Strips make Shots their B*tch!</td>\n",
       "      <td>Food</td>\n",
       "      <td>25000.0</td>\n",
       "      <td>10.126631</td>\n",
       "      <td>failed</td>\n",
       "    </tr>\n",
       "    <tr>\n",
       "      <th>8</th>\n",
       "      <td>1000034518</td>\n",
       "      <td>SPIN - Premium Retractable In-Ear Headphones w...</td>\n",
       "      <td>Design</td>\n",
       "      <td>125000.0</td>\n",
       "      <td>11.736069</td>\n",
       "      <td>canceled</td>\n",
       "    </tr>\n",
       "    <tr>\n",
       "      <th>9</th>\n",
       "      <td>100004195</td>\n",
       "      <td>STUDIO IN THE SKY - A Documentary Feature Film...</td>\n",
       "      <td>Film &amp; Video</td>\n",
       "      <td>65000.0</td>\n",
       "      <td>11.082143</td>\n",
       "      <td>canceled</td>\n",
       "    </tr>\n",
       "    <tr>\n",
       "      <th>11</th>\n",
       "      <td>100005484</td>\n",
       "      <td>Lisa Lim New CD!</td>\n",
       "      <td>Music</td>\n",
       "      <td>12500.0</td>\n",
       "      <td>9.433484</td>\n",
       "      <td>successful</td>\n",
       "    </tr>\n",
       "  </tbody>\n",
       "</table>\n",
       "</div>"
      ],
      "text/plain": [
       "            ID                                               name  \\\n",
       "1   1000003930      Greeting From Earth: ZGAC Arts Capsule For ET   \n",
       "2   1000004038                                     Where is Hank?   \n",
       "3   1000007540  ToshiCapital Rekordz Needs Help to Complete Album   \n",
       "4   1000011046  Community Film Project: The Art of Neighborhoo...   \n",
       "5   1000014025                               Monarch Espresso Bar   \n",
       "6   1000023410  Support Solar Roasted Coffee & Green Energy!  ...   \n",
       "7   1000030581  Chaser Strips. Our Strips make Shots their B*tch!   \n",
       "8   1000034518  SPIN - Premium Retractable In-Ear Headphones w...   \n",
       "9    100004195  STUDIO IN THE SKY - A Documentary Feature Film...   \n",
       "11   100005484                                   Lisa Lim New CD!   \n",
       "\n",
       "   main_category  usd_goal_real  usd_goal_log       state  \n",
       "1   Film & Video        30000.0     10.308953      failed  \n",
       "2   Film & Video        45000.0     10.714418      failed  \n",
       "3          Music         5000.0      8.517193      failed  \n",
       "4   Film & Video        19500.0      9.878170    canceled  \n",
       "5           Food        50000.0     10.819778  successful  \n",
       "6           Food         1000.0      6.907755  successful  \n",
       "7           Food        25000.0     10.126631      failed  \n",
       "8         Design       125000.0     11.736069    canceled  \n",
       "9   Film & Video        65000.0     11.082143    canceled  \n",
       "11         Music        12500.0      9.433484  successful  "
      ]
     },
     "execution_count": 79,
     "metadata": {},
     "output_type": "execute_result"
    }
   ],
   "source": [
    "#Membuat log dataframe dari 'usd_goal_real'\n",
    "df_US_log = df_US[['ID', 'name', 'main_category', 'usd_goal_real', 'state']]\n",
    "df_US_log.insert(4, 'usd_goal_log', log_goal)\n",
    "\n",
    "df_US_log.head(10)"
   ]
  },
  {
   "cell_type": "code",
   "execution_count": null,
   "metadata": {},
   "outputs": [
    {
     "data": {
      "text/plain": [
       "main_category\n",
       "Technology      9.726288\n",
       "Design          9.187437\n",
       "Food            9.007378\n",
       "Film & Video    8.933364\n",
       "Games           8.931626\n",
       "Fashion         8.563846\n",
       "Journalism      8.478189\n",
       "Publishing      8.346307\n",
       "Theater         8.257394\n",
       "Music           8.247570\n",
       "Photography     8.195528\n",
       "Dance           8.162112\n",
       "Comics          8.095929\n",
       "Art             7.919961\n",
       "Crafts          7.691644\n",
       "Name: usd_goal_log, dtype: float64"
      ]
     },
     "execution_count": 80,
     "metadata": {},
     "output_type": "execute_result"
    }
   ],
   "source": [
    "#Mengetahui nilai mean dari setiap value \"main_category\"\n",
    "df_US_log.groupby('main_category')['usd_goal_log'].mean().sort_values(ascending=False)"
   ]
  },
  {
   "cell_type": "markdown",
   "metadata": {},
   "source": [
    "Dari hasil diatas dapat disimpulkan terdapat 2 pasang yang memiliki nilai mean hampir sama, yaitu antara **Film & Video** dengan **Games**."
   ]
  },
  {
   "cell_type": "markdown",
   "metadata": {},
   "source": [
    "**Mathematical Notation**\n",
    "\n",
    "Claim : rata-rata dari kategori **Film & Video** dengan **Games**.\n",
    "\n",
    "- H0 : μ_Games = μ_Film & Videos\n",
    "- H1 : μ_Games != μ_Film & Videos\n"
   ]
  },
  {
   "cell_type": "markdown",
   "metadata": {},
   "source": [
    "Pada kali ini saya akan menjalankan Hypothesis Testing untuk mengetahui nilai yang berbeda atau tidak, dengan membandingkan mean value antara kategori, dan metode yang digunakan adalah T- test dengan 2 sampel."
   ]
  },
  {
   "cell_type": "code",
   "execution_count": null,
   "metadata": {},
   "outputs": [],
   "source": [
    "#Mempersiapkan variabel\n",
    "games = df_US_log[df_US_log['main_category']=='Games']\n",
    "film = df_US_log[df_US_log['main_category']=='Film & Video']\n"
   ]
  },
  {
   "cell_type": "code",
   "execution_count": null,
   "metadata": {},
   "outputs": [
    {
     "name": "stdout",
     "output_type": "stream",
     "text": [
      "Probability value :  0.8948646188674615\n",
      "t-statistics :  -0.13215174071543667\n"
     ]
    }
   ],
   "source": [
    "# t-test 2 sample 2 tailed\n",
    "t_stat, p_val = stats.ttest_ind(games['usd_goal_log'], film['usd_goal_log'])\n",
    "\n",
    "#the p-value isn't divided by 2 since the output is two-sided p-value\n",
    "print('Probability value : ', p_val)\n",
    "print('t-statistics : ', t_stat)"
   ]
  },
  {
   "cell_type": "code",
   "execution_count": null,
   "metadata": {},
   "outputs": [
    {
     "data": {
      "text/plain": [
       "False"
      ]
     },
     "execution_count": 102,
     "metadata": {},
     "output_type": "execute_result"
    }
   ],
   "source": [
    "# Compare P_value with Level of Significance\n",
    "\n",
    "p_val <= 0.05"
   ]
  },
  {
   "cell_type": "code",
   "execution_count": null,
   "metadata": {},
   "outputs": [
    {
     "data": {
      "image/png": "[encoded data removed]",
      "text/plain": [
       "<Figure size 1440x1080 with 1 Axes>"
      ]
     },
     "metadata": {
      "needs_background": "light"
     },
     "output_type": "display_data"
    }
   ],
   "source": [
    "#Sample data variabel\n",
    "games_pop = np.random.normal(games['usd_goal_log'].mean(), games['usd_goal_log'].std(),10000)\n",
    "film_pop = np.random.normal(film['usd_goal_log'].mean(), film['usd_goal_log'].std(),10000)\n",
    "\n",
    "# confidence interval\n",
    "ci = stats.norm.interval(0.95, games['usd_goal_log'].mean(), games['usd_goal_log'].std())\n",
    "\n",
    "plt.figure(figsize=(20,15))\n",
    "sns.kdeplot(games_pop, label='Games population distribution', fill='blue', alpha=0.5)\n",
    "sns.kdeplot(film_pop, label='Film & Video population distribution', fill='orange' , alpha=0.5)\n",
    "\n",
    "#Membuat grafik berdasarkan nilai mean dari data kategori 'film' & 'games'\n",
    "plt.axvline(games['usd_goal_log'].mean(), color='pink', linewidth=2, label='Games goal_log mean')\n",
    "plt.axvline(film['usd_goal_log'].mean(), color='red',  linewidth=2, label='Film & Video goal_log mean')\n",
    "\n",
    "plt.axvline(ci[1], color='green', linestyle='dashed', linewidth=2, label='Confidence Threshold of 95%')\n",
    "plt.axvline(ci[0], color='green', linestyle='dashed', linewidth=2)\n",
    "\n",
    "plt.axvline(games_pop.mean() + t_stat * games_pop.std(), color='black', linestyle='dashed', linewidth=2, label = 'Alternative Hypothesis')\n",
    "plt.axvline(film_pop.mean() - t_stat * film_pop.std(), color='black', linestyle='dashed', linewidth=2)\n",
    "\n",
    "plt.legend()\n",
    "plt.show()"
   ]
  },
  {
   "cell_type": "markdown",
   "metadata": {},
   "source": [
    "Dari hasil yang kita dapatkan diatas bahwa p_val lebih besar daripada nilai a. Dan dari grafik diatas dapat dikatakan bahwa terdistribusi normal dengan nilai **Confidence threshold of 95%**. Dan berdasarkan nilai ini kita gagal menolak **null hypothesis** pada nilai mean dari kategori **Games & Film**."
   ]
  },
  {
   "cell_type": "markdown",
   "metadata": {},
   "source": [
    "## VII. Conclusion"
   ]
  },
  {
   "cell_type": "markdown",
   "metadata": {},
   "source": [
    "Dari kesimpulan yang kita dapatkan dari Descriptive Statistic, menunjukkan bahwa Skewed distribution, dikarenakan nilai Mean yang lebih besar daripada nilan Median."
   ]
  },
  {
   "cell_type": "code",
   "execution_count": null,
   "metadata": {},
   "outputs": [
    {
     "data": {
      "image/png": "[encoded data removed]",
      "text/plain": [
       "<Figure size 1080x720 with 1 Axes>"
      ]
     },
     "metadata": {
      "needs_background": "light"
     },
     "output_type": "display_data"
    }
   ],
   "source": [
    "#Plotting distribusi pada graphic dari 'usd_pledged_real' & 'usd_goal_real'\n",
    "fig, ax = plt.subplots(figsize=(15, 10))\n",
    "\n",
    "sns.histplot(log_goal, kde=True, ax=ax)\n",
    "ax.axvline(log_goal.mean(), linestyle='dashed', label='mean', color='green')\n",
    "ax.axvline(log_goal.median(), linestyle='dashed', label='median', color='red')\n",
    "\n",
    "plt.legend()\n",
    "plt.show()"
   ]
  },
  {
   "cell_type": "markdown",
   "metadata": {},
   "source": [
    "Grafik diatas membuktikkan bahwa nilai usd_goal_real terdistribusi normal."
   ]
  },
  {
   "cell_type": "markdown",
   "metadata": {},
   "source": [
    "**Infrential Statistic**\n",
    "\n",
    "Dari nilai usd_goal_real yang sudah diubah membuktikan bahwa terdistribusi normal. Dengan pemilihan kategori pada kolom 'main_category' yang memiliki nilai mean paling mirip untuk di uji coba dalam **Hypothesis testing** adalah kategori **Games & Film**. "
   ]
  },
  {
   "cell_type": "code",
   "execution_count": null,
   "metadata": {},
   "outputs": [
    {
     "name": "stdout",
     "output_type": "stream",
     "text": [
      "Mean games :  8.93162582527567\n",
      "Mean film :  8.933363845893233\n"
     ]
    }
   ],
   "source": [
    "#Menampilkan nilai mean dari kategori games & film\n",
    "print('Mean games : ',games['usd_goal_log'].mean())\n",
    "print('Mean film : ',film['usd_goal_log'].mean())"
   ]
  },
  {
   "cell_type": "code",
   "execution_count": null,
   "metadata": {},
   "outputs": [
    {
     "name": "stdout",
     "output_type": "stream",
     "text": [
      "Probability value :  0.8948646188674615\n",
      "t-statistics :  -0.13215174071543667\n"
     ]
    }
   ],
   "source": [
    "#Menampilkan p_val & t_val dari kategori games & film \n",
    "print('Probability value : ', p_val)\n",
    "print('t-statistics : ', t_stat)"
   ]
  },
  {
   "cell_type": "markdown",
   "metadata": {},
   "source": [
    "Dari hasil yang kita dapatkan diatas bahwa p_val lebih besar daripada nilai a. Dan dari grafik diatas dapat dikatakan bahwa terdistribusi normal dengan nilai **Confidence threshold of 95%**. Dan berdasarkan nilai ini kita gagal menolak **null hypothesis** pada nilai mean dari kategori **Games & Film**, dikarenakan rata-rata nilai setelah dilakukan data cleaning sama."
   ]
  }
 ],
 "metadata": {
  "interpreter": {
   "hash": "4ba04a4154796dc9f1fb51be3a9482ca72d81f970391e8ed4f56fce6fd21f80b"
  },
  "kernelspec": {
   "display_name": "Python 3.9.7 ('base')",
   "language": "python",
   "name": "python3"
  },
  "language_info": {
   "codemirror_mode": {
    "name": "ipython",
    "version": 3
   },
   "file_extension": ".py",
   "mimetype": "text/x-python",
   "name": "python",
   "nbconvert_exporter": "python",
   "pygments_lexer": "ipython3",
   "version": "3.9.7"
  },
  "orig_nbformat": 4
 },
 "nbformat": 4,
 "nbformat_minor": 2
}
