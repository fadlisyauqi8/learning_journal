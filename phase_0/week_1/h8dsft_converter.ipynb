{
 "cells": [
  {
   "cell_type": "markdown",
   "metadata": {},
   "source": [
    "**KONVERSI TEMPERATURE**"
   ]
  },
  {
   "cell_type": "code",
   "execution_count": 32,
   "metadata": {},
   "outputs": [],
   "source": [
    "def convertTemperature(T, satuan_awal, satuan_akhir):\n",
    "    #fungsi ini mengkalkulasikan nilai suhu awal ke suhu yang diinginkan\n",
    "   if satuan_awal==\"Kelvin\" and satuan_akhir==\"Celsius\":\n",
    "      T=T - 273\n",
    "      return str(T) + \" Celsius\" #nilai output yg diinginkan \n",
    "   elif satuan_awal==\"Celsius\" and satuan_akhir==\"Kelvin\":\n",
    "      T=T + 273 \n",
    "      return str(T) + \" Kelvin\"\n",
    "   elif satuan_awal==\"Celsius\" and satuan_akhir==\"Fahrenheit\":\n",
    "      T=1.8 * T+32\n",
    "      return str(T) + \" Fahrenheit\"\n",
    "   elif satuan_awal==\"Kelvin\" and satuan_akhir==\"Fahrenheit\":\n",
    "      T=(T-273) * 9/5 + 32\n",
    "      return str(T) + \" Fahrenheit\"\n",
    "   elif satuan_awal==\"Fahrenheit\" and satuan_akhir==\"Celsius\":\n",
    "      T=(T-32) / 1.8\n",
    "      return str(T) + \" Celsius\"\n",
    "   elif satuan_awal==\"Fahrenheit\" and satuan_akhir==\"Kelvin\":\n",
    "      T=(T-32) * 5/9 + 273\n",
    "      return str(T) + \" Kelvin\""
   ]
  },
  {
   "cell_type": "code",
   "execution_count": 33,
   "metadata": {},
   "outputs": [
    {
     "data": {
      "text/plain": [
       "'-387.4 Fahrenheit'"
      ]
     },
     "execution_count": 33,
     "metadata": {},
     "output_type": "execute_result"
    }
   ],
   "source": [
    "T = int(input('ketikan suhu anda-> ')) #memastikan untuk nilai input dengan tetap\n",
    "satuan_awal = str(input('ketikan satuan yang ingin anda ubah->')) #penggunaan input nilai awal sebelum di convert\n",
    "satuan_akhir = str(input('ketikan satuan tujuan.>')) #satuan akhir tujuan dari convert\n",
    "\n",
    "convertTemperature(T=T,satuan_awal=satuan_awal,satuan_akhir=satuan_akhir)"
   ]
  },
  {
   "cell_type": "code",
   "execution_count": null,
   "metadata": {},
   "outputs": [],
   "source": []
  }
 ],
 "metadata": {
  "interpreter": {
   "hash": "618ca8207bf60f40aea0b819055d7c0bfcb907c5ee422040ce3d69b2a9ce6a54"
  },
  "kernelspec": {
   "display_name": "Python 3.9.7 ('base')",
   "language": "python",
   "name": "python3"
  },
  "language_info": {
   "codemirror_mode": {
    "name": "ipython",
    "version": 3
   },
   "file_extension": ".py",
   "mimetype": "text/x-python",
   "name": "python",
   "nbconvert_exporter": "python",
   "pygments_lexer": "ipython3",
   "version": "3.9.7"
  },
  "orig_nbformat": 4
 },
 "nbformat": 4,
 "nbformat_minor": 2
}
